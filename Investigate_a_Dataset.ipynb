{
 "cells": [
  {
   "cell_type": "markdown",
   "metadata": {},
   "source": [
    "\n",
    "# Project: TMDB Movie Dataset Analysis\n",
    "\n",
    "## Table of Contents\n",
    "<ul>\n",
    "<li><a href=\"#intro\">Introduction</a></li>\n",
    "<li><a href=\"#wrangling\">Data Wrangling</a></li>\n",
    "<li><a href=\"#eda\">Exploratory Data Analysis</a></li>\n",
    "<li><a href=\"#conclusions\">Conclusions</a></li>\n",
    "</ul>"
   ]
  },
  {
   "cell_type": "markdown",
   "metadata": {},
   "source": [
    "<a id='intro'></a>\n",
    "## Introduction\n",
    "\n",
    "\n",
    "> This data set contains information about 10,000 movies collected from The Movie Database (TMDb), including user ratings and revenue.\n",
    ">\n",
    "> Certain columns, like ‘cast’ and ‘genres’, contain multiple values separated by pipe (|) characters.\n",
    ">\n",
    ">The final two columns ending with “_adj” show the budget and revenue of the associated movie in terms of 2010 dollars,\n",
    "accounting for inflation over time.\n",
    ">\n",
    "> We are going to investigate the following questions:\n",
    ">\n",
    ">>**1- Which genres are most popular from year to year?**\n",
    ">\n",
    ">>**2- What kinds of properties are associated with movies that have high revenues?**\n",
    ">\n",
    ">>**3-What kinds of properties are associated with the popularity of movies?**\n"
   ]
  },
  {
   "cell_type": "code",
   "execution_count": 1,
   "metadata": {},
   "outputs": [],
   "source": [
    "# important packages required for our analysis:\n",
    "import numpy as np\n",
    "import pandas as pd\n",
    "import matplotlib.pyplot as plt\n",
    "from matplotlib import *\n",
    "from matplotlib.pyplot import *\n",
    "import seaborn as sns\n",
    "%matplotlib inline\n"
   ]
  },
  {
   "cell_type": "markdown",
   "metadata": {},
   "source": [
    "<a id='wrangling'></a>\n",
    "## Data Wrangling\n",
    "\n",
    "\n",
    "### General Properties"
   ]
  },
  {
   "cell_type": "code",
   "execution_count": 2,
   "metadata": {
    "scrolled": true
   },
   "outputs": [
    {
     "data": {
      "text/html": [
       "<div>\n",
       "<style scoped>\n",
       "    .dataframe tbody tr th:only-of-type {\n",
       "        vertical-align: middle;\n",
       "    }\n",
       "\n",
       "    .dataframe tbody tr th {\n",
       "        vertical-align: top;\n",
       "    }\n",
       "\n",
       "    .dataframe thead th {\n",
       "        text-align: right;\n",
       "    }\n",
       "</style>\n",
       "<table border=\"1\" class=\"dataframe\">\n",
       "  <thead>\n",
       "    <tr style=\"text-align: right;\">\n",
       "      <th></th>\n",
       "      <th>id</th>\n",
       "      <th>imdb_id</th>\n",
       "      <th>popularity</th>\n",
       "      <th>budget</th>\n",
       "      <th>revenue</th>\n",
       "      <th>original_title</th>\n",
       "      <th>cast</th>\n",
       "      <th>homepage</th>\n",
       "      <th>director</th>\n",
       "      <th>tagline</th>\n",
       "      <th>...</th>\n",
       "      <th>overview</th>\n",
       "      <th>runtime</th>\n",
       "      <th>genres</th>\n",
       "      <th>production_companies</th>\n",
       "      <th>release_date</th>\n",
       "      <th>vote_count</th>\n",
       "      <th>vote_average</th>\n",
       "      <th>release_year</th>\n",
       "      <th>budget_adj</th>\n",
       "      <th>revenue_adj</th>\n",
       "    </tr>\n",
       "  </thead>\n",
       "  <tbody>\n",
       "    <tr>\n",
       "      <th>0</th>\n",
       "      <td>135397</td>\n",
       "      <td>tt0369610</td>\n",
       "      <td>32.985763</td>\n",
       "      <td>150000000</td>\n",
       "      <td>1513528810</td>\n",
       "      <td>Jurassic World</td>\n",
       "      <td>Chris Pratt|Bryce Dallas Howard|Irrfan Khan|Vi...</td>\n",
       "      <td>http://www.jurassicworld.com/</td>\n",
       "      <td>Colin Trevorrow</td>\n",
       "      <td>The park is open.</td>\n",
       "      <td>...</td>\n",
       "      <td>Twenty-two years after the events of Jurassic ...</td>\n",
       "      <td>124</td>\n",
       "      <td>Action|Adventure|Science Fiction|Thriller</td>\n",
       "      <td>Universal Studios|Amblin Entertainment|Legenda...</td>\n",
       "      <td>6/9/15</td>\n",
       "      <td>5562</td>\n",
       "      <td>6.5</td>\n",
       "      <td>2015</td>\n",
       "      <td>1.379999e+08</td>\n",
       "      <td>1.392446e+09</td>\n",
       "    </tr>\n",
       "    <tr>\n",
       "      <th>1</th>\n",
       "      <td>76341</td>\n",
       "      <td>tt1392190</td>\n",
       "      <td>28.419936</td>\n",
       "      <td>150000000</td>\n",
       "      <td>378436354</td>\n",
       "      <td>Mad Max: Fury Road</td>\n",
       "      <td>Tom Hardy|Charlize Theron|Hugh Keays-Byrne|Nic...</td>\n",
       "      <td>http://www.madmaxmovie.com/</td>\n",
       "      <td>George Miller</td>\n",
       "      <td>What a Lovely Day.</td>\n",
       "      <td>...</td>\n",
       "      <td>An apocalyptic story set in the furthest reach...</td>\n",
       "      <td>120</td>\n",
       "      <td>Action|Adventure|Science Fiction|Thriller</td>\n",
       "      <td>Village Roadshow Pictures|Kennedy Miller Produ...</td>\n",
       "      <td>5/13/15</td>\n",
       "      <td>6185</td>\n",
       "      <td>7.1</td>\n",
       "      <td>2015</td>\n",
       "      <td>1.379999e+08</td>\n",
       "      <td>3.481613e+08</td>\n",
       "    </tr>\n",
       "    <tr>\n",
       "      <th>2</th>\n",
       "      <td>262500</td>\n",
       "      <td>tt2908446</td>\n",
       "      <td>13.112507</td>\n",
       "      <td>110000000</td>\n",
       "      <td>295238201</td>\n",
       "      <td>Insurgent</td>\n",
       "      <td>Shailene Woodley|Theo James|Kate Winslet|Ansel...</td>\n",
       "      <td>http://www.thedivergentseries.movie/#insurgent</td>\n",
       "      <td>Robert Schwentke</td>\n",
       "      <td>One Choice Can Destroy You</td>\n",
       "      <td>...</td>\n",
       "      <td>Beatrice Prior must confront her inner demons ...</td>\n",
       "      <td>119</td>\n",
       "      <td>Adventure|Science Fiction|Thriller</td>\n",
       "      <td>Summit Entertainment|Mandeville Films|Red Wago...</td>\n",
       "      <td>3/18/15</td>\n",
       "      <td>2480</td>\n",
       "      <td>6.3</td>\n",
       "      <td>2015</td>\n",
       "      <td>1.012000e+08</td>\n",
       "      <td>2.716190e+08</td>\n",
       "    </tr>\n",
       "    <tr>\n",
       "      <th>3</th>\n",
       "      <td>140607</td>\n",
       "      <td>tt2488496</td>\n",
       "      <td>11.173104</td>\n",
       "      <td>200000000</td>\n",
       "      <td>2068178225</td>\n",
       "      <td>Star Wars: The Force Awakens</td>\n",
       "      <td>Harrison Ford|Mark Hamill|Carrie Fisher|Adam D...</td>\n",
       "      <td>http://www.starwars.com/films/star-wars-episod...</td>\n",
       "      <td>J.J. Abrams</td>\n",
       "      <td>Every generation has a story.</td>\n",
       "      <td>...</td>\n",
       "      <td>Thirty years after defeating the Galactic Empi...</td>\n",
       "      <td>136</td>\n",
       "      <td>Action|Adventure|Science Fiction|Fantasy</td>\n",
       "      <td>Lucasfilm|Truenorth Productions|Bad Robot</td>\n",
       "      <td>12/15/15</td>\n",
       "      <td>5292</td>\n",
       "      <td>7.5</td>\n",
       "      <td>2015</td>\n",
       "      <td>1.839999e+08</td>\n",
       "      <td>1.902723e+09</td>\n",
       "    </tr>\n",
       "    <tr>\n",
       "      <th>4</th>\n",
       "      <td>168259</td>\n",
       "      <td>tt2820852</td>\n",
       "      <td>9.335014</td>\n",
       "      <td>190000000</td>\n",
       "      <td>1506249360</td>\n",
       "      <td>Furious 7</td>\n",
       "      <td>Vin Diesel|Paul Walker|Jason Statham|Michelle ...</td>\n",
       "      <td>http://www.furious7.com/</td>\n",
       "      <td>James Wan</td>\n",
       "      <td>Vengeance Hits Home</td>\n",
       "      <td>...</td>\n",
       "      <td>Deckard Shaw seeks revenge against Dominic Tor...</td>\n",
       "      <td>137</td>\n",
       "      <td>Action|Crime|Thriller</td>\n",
       "      <td>Universal Pictures|Original Film|Media Rights ...</td>\n",
       "      <td>4/1/15</td>\n",
       "      <td>2947</td>\n",
       "      <td>7.3</td>\n",
       "      <td>2015</td>\n",
       "      <td>1.747999e+08</td>\n",
       "      <td>1.385749e+09</td>\n",
       "    </tr>\n",
       "  </tbody>\n",
       "</table>\n",
       "<p>5 rows × 21 columns</p>\n",
       "</div>"
      ],
      "text/plain": [
       "       id    imdb_id  popularity     budget     revenue  \\\n",
       "0  135397  tt0369610   32.985763  150000000  1513528810   \n",
       "1   76341  tt1392190   28.419936  150000000   378436354   \n",
       "2  262500  tt2908446   13.112507  110000000   295238201   \n",
       "3  140607  tt2488496   11.173104  200000000  2068178225   \n",
       "4  168259  tt2820852    9.335014  190000000  1506249360   \n",
       "\n",
       "                 original_title  \\\n",
       "0                Jurassic World   \n",
       "1            Mad Max: Fury Road   \n",
       "2                     Insurgent   \n",
       "3  Star Wars: The Force Awakens   \n",
       "4                     Furious 7   \n",
       "\n",
       "                                                cast  \\\n",
       "0  Chris Pratt|Bryce Dallas Howard|Irrfan Khan|Vi...   \n",
       "1  Tom Hardy|Charlize Theron|Hugh Keays-Byrne|Nic...   \n",
       "2  Shailene Woodley|Theo James|Kate Winslet|Ansel...   \n",
       "3  Harrison Ford|Mark Hamill|Carrie Fisher|Adam D...   \n",
       "4  Vin Diesel|Paul Walker|Jason Statham|Michelle ...   \n",
       "\n",
       "                                            homepage          director  \\\n",
       "0                      http://www.jurassicworld.com/   Colin Trevorrow   \n",
       "1                        http://www.madmaxmovie.com/     George Miller   \n",
       "2     http://www.thedivergentseries.movie/#insurgent  Robert Schwentke   \n",
       "3  http://www.starwars.com/films/star-wars-episod...       J.J. Abrams   \n",
       "4                           http://www.furious7.com/         James Wan   \n",
       "\n",
       "                         tagline  ...  \\\n",
       "0              The park is open.  ...   \n",
       "1             What a Lovely Day.  ...   \n",
       "2     One Choice Can Destroy You  ...   \n",
       "3  Every generation has a story.  ...   \n",
       "4            Vengeance Hits Home  ...   \n",
       "\n",
       "                                            overview runtime  \\\n",
       "0  Twenty-two years after the events of Jurassic ...     124   \n",
       "1  An apocalyptic story set in the furthest reach...     120   \n",
       "2  Beatrice Prior must confront her inner demons ...     119   \n",
       "3  Thirty years after defeating the Galactic Empi...     136   \n",
       "4  Deckard Shaw seeks revenge against Dominic Tor...     137   \n",
       "\n",
       "                                      genres  \\\n",
       "0  Action|Adventure|Science Fiction|Thriller   \n",
       "1  Action|Adventure|Science Fiction|Thriller   \n",
       "2         Adventure|Science Fiction|Thriller   \n",
       "3   Action|Adventure|Science Fiction|Fantasy   \n",
       "4                      Action|Crime|Thriller   \n",
       "\n",
       "                                production_companies release_date vote_count  \\\n",
       "0  Universal Studios|Amblin Entertainment|Legenda...       6/9/15       5562   \n",
       "1  Village Roadshow Pictures|Kennedy Miller Produ...      5/13/15       6185   \n",
       "2  Summit Entertainment|Mandeville Films|Red Wago...      3/18/15       2480   \n",
       "3          Lucasfilm|Truenorth Productions|Bad Robot     12/15/15       5292   \n",
       "4  Universal Pictures|Original Film|Media Rights ...       4/1/15       2947   \n",
       "\n",
       "   vote_average  release_year    budget_adj   revenue_adj  \n",
       "0           6.5          2015  1.379999e+08  1.392446e+09  \n",
       "1           7.1          2015  1.379999e+08  3.481613e+08  \n",
       "2           6.3          2015  1.012000e+08  2.716190e+08  \n",
       "3           7.5          2015  1.839999e+08  1.902723e+09  \n",
       "4           7.3          2015  1.747999e+08  1.385749e+09  \n",
       "\n",
       "[5 rows x 21 columns]"
      ]
     },
     "execution_count": 2,
     "metadata": {},
     "output_type": "execute_result"
    }
   ],
   "source": [
    "# Read our dataset (converting our \".csv\" file to a dataFrame):  \n",
    "df=pd.read_csv(\"tmdb-movies.csv\")\n",
    "df.head()"
   ]
  },
  {
   "cell_type": "code",
   "execution_count": 3,
   "metadata": {},
   "outputs": [
    {
     "data": {
      "text/plain": [
       "(10866, 21)"
      ]
     },
     "execution_count": 3,
     "metadata": {},
     "output_type": "execute_result"
    }
   ],
   "source": [
    "# Check for the number of rows and columns in the dataFrame:\n",
    "df.shape"
   ]
  },
  {
   "cell_type": "code",
   "execution_count": 4,
   "metadata": {},
   "outputs": [
    {
     "data": {
      "text/html": [
       "<div>\n",
       "<style scoped>\n",
       "    .dataframe tbody tr th:only-of-type {\n",
       "        vertical-align: middle;\n",
       "    }\n",
       "\n",
       "    .dataframe tbody tr th {\n",
       "        vertical-align: top;\n",
       "    }\n",
       "\n",
       "    .dataframe thead th {\n",
       "        text-align: right;\n",
       "    }\n",
       "</style>\n",
       "<table border=\"1\" class=\"dataframe\">\n",
       "  <thead>\n",
       "    <tr style=\"text-align: right;\">\n",
       "      <th></th>\n",
       "      <th>id</th>\n",
       "      <th>popularity</th>\n",
       "      <th>budget</th>\n",
       "      <th>revenue</th>\n",
       "      <th>runtime</th>\n",
       "      <th>vote_count</th>\n",
       "      <th>vote_average</th>\n",
       "      <th>release_year</th>\n",
       "      <th>budget_adj</th>\n",
       "      <th>revenue_adj</th>\n",
       "    </tr>\n",
       "  </thead>\n",
       "  <tbody>\n",
       "    <tr>\n",
       "      <th>count</th>\n",
       "      <td>10866.000000</td>\n",
       "      <td>10866.000000</td>\n",
       "      <td>1.086600e+04</td>\n",
       "      <td>1.086600e+04</td>\n",
       "      <td>10866.000000</td>\n",
       "      <td>10866.000000</td>\n",
       "      <td>10866.000000</td>\n",
       "      <td>10866.000000</td>\n",
       "      <td>1.086600e+04</td>\n",
       "      <td>1.086600e+04</td>\n",
       "    </tr>\n",
       "    <tr>\n",
       "      <th>mean</th>\n",
       "      <td>66064.177434</td>\n",
       "      <td>0.646441</td>\n",
       "      <td>1.462570e+07</td>\n",
       "      <td>3.982332e+07</td>\n",
       "      <td>102.070863</td>\n",
       "      <td>217.389748</td>\n",
       "      <td>5.974922</td>\n",
       "      <td>2001.322658</td>\n",
       "      <td>1.755104e+07</td>\n",
       "      <td>5.136436e+07</td>\n",
       "    </tr>\n",
       "    <tr>\n",
       "      <th>std</th>\n",
       "      <td>92130.136561</td>\n",
       "      <td>1.000185</td>\n",
       "      <td>3.091321e+07</td>\n",
       "      <td>1.170035e+08</td>\n",
       "      <td>31.381405</td>\n",
       "      <td>575.619058</td>\n",
       "      <td>0.935142</td>\n",
       "      <td>12.812941</td>\n",
       "      <td>3.430616e+07</td>\n",
       "      <td>1.446325e+08</td>\n",
       "    </tr>\n",
       "    <tr>\n",
       "      <th>min</th>\n",
       "      <td>5.000000</td>\n",
       "      <td>0.000065</td>\n",
       "      <td>0.000000e+00</td>\n",
       "      <td>0.000000e+00</td>\n",
       "      <td>0.000000</td>\n",
       "      <td>10.000000</td>\n",
       "      <td>1.500000</td>\n",
       "      <td>1960.000000</td>\n",
       "      <td>0.000000e+00</td>\n",
       "      <td>0.000000e+00</td>\n",
       "    </tr>\n",
       "    <tr>\n",
       "      <th>25%</th>\n",
       "      <td>10596.250000</td>\n",
       "      <td>0.207583</td>\n",
       "      <td>0.000000e+00</td>\n",
       "      <td>0.000000e+00</td>\n",
       "      <td>90.000000</td>\n",
       "      <td>17.000000</td>\n",
       "      <td>5.400000</td>\n",
       "      <td>1995.000000</td>\n",
       "      <td>0.000000e+00</td>\n",
       "      <td>0.000000e+00</td>\n",
       "    </tr>\n",
       "    <tr>\n",
       "      <th>50%</th>\n",
       "      <td>20669.000000</td>\n",
       "      <td>0.383856</td>\n",
       "      <td>0.000000e+00</td>\n",
       "      <td>0.000000e+00</td>\n",
       "      <td>99.000000</td>\n",
       "      <td>38.000000</td>\n",
       "      <td>6.000000</td>\n",
       "      <td>2006.000000</td>\n",
       "      <td>0.000000e+00</td>\n",
       "      <td>0.000000e+00</td>\n",
       "    </tr>\n",
       "    <tr>\n",
       "      <th>75%</th>\n",
       "      <td>75610.000000</td>\n",
       "      <td>0.713817</td>\n",
       "      <td>1.500000e+07</td>\n",
       "      <td>2.400000e+07</td>\n",
       "      <td>111.000000</td>\n",
       "      <td>145.750000</td>\n",
       "      <td>6.600000</td>\n",
       "      <td>2011.000000</td>\n",
       "      <td>2.085325e+07</td>\n",
       "      <td>3.369710e+07</td>\n",
       "    </tr>\n",
       "    <tr>\n",
       "      <th>max</th>\n",
       "      <td>417859.000000</td>\n",
       "      <td>32.985763</td>\n",
       "      <td>4.250000e+08</td>\n",
       "      <td>2.781506e+09</td>\n",
       "      <td>900.000000</td>\n",
       "      <td>9767.000000</td>\n",
       "      <td>9.200000</td>\n",
       "      <td>2015.000000</td>\n",
       "      <td>4.250000e+08</td>\n",
       "      <td>2.827124e+09</td>\n",
       "    </tr>\n",
       "  </tbody>\n",
       "</table>\n",
       "</div>"
      ],
      "text/plain": [
       "                  id    popularity        budget       revenue       runtime  \\\n",
       "count   10866.000000  10866.000000  1.086600e+04  1.086600e+04  10866.000000   \n",
       "mean    66064.177434      0.646441  1.462570e+07  3.982332e+07    102.070863   \n",
       "std     92130.136561      1.000185  3.091321e+07  1.170035e+08     31.381405   \n",
       "min         5.000000      0.000065  0.000000e+00  0.000000e+00      0.000000   \n",
       "25%     10596.250000      0.207583  0.000000e+00  0.000000e+00     90.000000   \n",
       "50%     20669.000000      0.383856  0.000000e+00  0.000000e+00     99.000000   \n",
       "75%     75610.000000      0.713817  1.500000e+07  2.400000e+07    111.000000   \n",
       "max    417859.000000     32.985763  4.250000e+08  2.781506e+09    900.000000   \n",
       "\n",
       "         vote_count  vote_average  release_year    budget_adj   revenue_adj  \n",
       "count  10866.000000  10866.000000  10866.000000  1.086600e+04  1.086600e+04  \n",
       "mean     217.389748      5.974922   2001.322658  1.755104e+07  5.136436e+07  \n",
       "std      575.619058      0.935142     12.812941  3.430616e+07  1.446325e+08  \n",
       "min       10.000000      1.500000   1960.000000  0.000000e+00  0.000000e+00  \n",
       "25%       17.000000      5.400000   1995.000000  0.000000e+00  0.000000e+00  \n",
       "50%       38.000000      6.000000   2006.000000  0.000000e+00  0.000000e+00  \n",
       "75%      145.750000      6.600000   2011.000000  2.085325e+07  3.369710e+07  \n",
       "max     9767.000000      9.200000   2015.000000  4.250000e+08  2.827124e+09  "
      ]
     },
     "execution_count": 4,
     "metadata": {},
     "output_type": "execute_result"
    }
   ],
   "source": [
    "# See some statistical data about our dataFrame:\n",
    "df.describe()"
   ]
  },
  {
   "cell_type": "code",
   "execution_count": 5,
   "metadata": {},
   "outputs": [
    {
     "name": "stdout",
     "output_type": "stream",
     "text": [
      "<class 'pandas.core.frame.DataFrame'>\n",
      "RangeIndex: 10866 entries, 0 to 10865\n",
      "Data columns (total 21 columns):\n",
      " #   Column                Non-Null Count  Dtype  \n",
      "---  ------                --------------  -----  \n",
      " 0   id                    10866 non-null  int64  \n",
      " 1   imdb_id               10856 non-null  object \n",
      " 2   popularity            10866 non-null  float64\n",
      " 3   budget                10866 non-null  int64  \n",
      " 4   revenue               10866 non-null  int64  \n",
      " 5   original_title        10866 non-null  object \n",
      " 6   cast                  10790 non-null  object \n",
      " 7   homepage              2936 non-null   object \n",
      " 8   director              10822 non-null  object \n",
      " 9   tagline               8042 non-null   object \n",
      " 10  keywords              9373 non-null   object \n",
      " 11  overview              10862 non-null  object \n",
      " 12  runtime               10866 non-null  int64  \n",
      " 13  genres                10843 non-null  object \n",
      " 14  production_companies  9836 non-null   object \n",
      " 15  release_date          10866 non-null  object \n",
      " 16  vote_count            10866 non-null  int64  \n",
      " 17  vote_average          10866 non-null  float64\n",
      " 18  release_year          10866 non-null  int64  \n",
      " 19  budget_adj            10866 non-null  float64\n",
      " 20  revenue_adj           10866 non-null  float64\n",
      "dtypes: float64(4), int64(6), object(11)\n",
      "memory usage: 1.7+ MB\n"
     ]
    }
   ],
   "source": [
    "# See information data about our dataFrame:\n",
    "df.info()"
   ]
  },
  {
   "cell_type": "markdown",
   "metadata": {},
   "source": [
    "### Data Cleaning :"
   ]
  },
  {
   "cell_type": "markdown",
   "metadata": {},
   "source": [
    "**1-Drop columns that we are not going to use:**"
   ]
  },
  {
   "cell_type": "code",
   "execution_count": 6,
   "metadata": {},
   "outputs": [],
   "source": [
    "# production_companies,keywords,overview,tagline,director,homepage,cast\n",
    "df.drop([\"production_companies\",\"keywords\",\"overview\",\"tagline\",\"director\",\"homepage\",\"cast\"],axis=1,inplace=True)"
   ]
  },
  {
   "cell_type": "code",
   "execution_count": 7,
   "metadata": {},
   "outputs": [
    {
     "data": {
      "text/plain": [
       "(10866, 14)"
      ]
     },
     "execution_count": 7,
     "metadata": {},
     "output_type": "execute_result"
    }
   ],
   "source": [
    "# Check for the number of rows and columns in the dataFrame:\n",
    "df.shape"
   ]
  },
  {
   "cell_type": "code",
   "execution_count": 8,
   "metadata": {
    "scrolled": true
   },
   "outputs": [
    {
     "name": "stdout",
     "output_type": "stream",
     "text": [
      "<class 'pandas.core.frame.DataFrame'>\n",
      "RangeIndex: 10866 entries, 0 to 10865\n",
      "Data columns (total 14 columns):\n",
      " #   Column          Non-Null Count  Dtype  \n",
      "---  ------          --------------  -----  \n",
      " 0   id              10866 non-null  int64  \n",
      " 1   imdb_id         10856 non-null  object \n",
      " 2   popularity      10866 non-null  float64\n",
      " 3   budget          10866 non-null  int64  \n",
      " 4   revenue         10866 non-null  int64  \n",
      " 5   original_title  10866 non-null  object \n",
      " 6   runtime         10866 non-null  int64  \n",
      " 7   genres          10843 non-null  object \n",
      " 8   release_date    10866 non-null  object \n",
      " 9   vote_count      10866 non-null  int64  \n",
      " 10  vote_average    10866 non-null  float64\n",
      " 11  release_year    10866 non-null  int64  \n",
      " 12  budget_adj      10866 non-null  float64\n",
      " 13  revenue_adj     10866 non-null  float64\n",
      "dtypes: float64(4), int64(6), object(4)\n",
      "memory usage: 1.2+ MB\n"
     ]
    }
   ],
   "source": [
    "# See information data about our dataFrame again:\n",
    "df.info()"
   ]
  },
  {
   "cell_type": "markdown",
   "metadata": {},
   "source": [
    "**2-Drop rows that are not nessesary:**"
   ]
  },
  {
   "cell_type": "code",
   "execution_count": 9,
   "metadata": {},
   "outputs": [],
   "source": [
    "df.drop(df[df[\"imdb_id\"].isnull()].index,axis=0,inplace=True)"
   ]
  },
  {
   "cell_type": "code",
   "execution_count": 10,
   "metadata": {},
   "outputs": [],
   "source": [
    "df.drop(df[df[\"genres\"].isnull()].index,axis=0,inplace=True)"
   ]
  },
  {
   "cell_type": "code",
   "execution_count": 11,
   "metadata": {
    "scrolled": true
   },
   "outputs": [
    {
     "data": {
      "text/plain": [
       "(10835, 14)"
      ]
     },
     "execution_count": 11,
     "metadata": {},
     "output_type": "execute_result"
    }
   ],
   "source": [
    "# Check for the number of rows and columns in the dataFrame:\n",
    "df.shape"
   ]
  },
  {
   "cell_type": "markdown",
   "metadata": {},
   "source": [
    "**3-Check for the duplicated rows in our the dataFrame:**"
   ]
  },
  {
   "cell_type": "code",
   "execution_count": 12,
   "metadata": {
    "scrolled": true
   },
   "outputs": [
    {
     "data": {
      "text/html": [
       "<div>\n",
       "<style scoped>\n",
       "    .dataframe tbody tr th:only-of-type {\n",
       "        vertical-align: middle;\n",
       "    }\n",
       "\n",
       "    .dataframe tbody tr th {\n",
       "        vertical-align: top;\n",
       "    }\n",
       "\n",
       "    .dataframe thead th {\n",
       "        text-align: right;\n",
       "    }\n",
       "</style>\n",
       "<table border=\"1\" class=\"dataframe\">\n",
       "  <thead>\n",
       "    <tr style=\"text-align: right;\">\n",
       "      <th></th>\n",
       "      <th>id</th>\n",
       "      <th>imdb_id</th>\n",
       "      <th>popularity</th>\n",
       "      <th>budget</th>\n",
       "      <th>revenue</th>\n",
       "      <th>original_title</th>\n",
       "      <th>runtime</th>\n",
       "      <th>genres</th>\n",
       "      <th>release_date</th>\n",
       "      <th>vote_count</th>\n",
       "      <th>vote_average</th>\n",
       "      <th>release_year</th>\n",
       "      <th>budget_adj</th>\n",
       "      <th>revenue_adj</th>\n",
       "    </tr>\n",
       "  </thead>\n",
       "  <tbody>\n",
       "    <tr>\n",
       "      <th>2090</th>\n",
       "      <td>42194</td>\n",
       "      <td>tt0411951</td>\n",
       "      <td>0.59643</td>\n",
       "      <td>30000000</td>\n",
       "      <td>967000</td>\n",
       "      <td>TEKKEN</td>\n",
       "      <td>92</td>\n",
       "      <td>Crime|Drama|Action|Thriller|Science Fiction</td>\n",
       "      <td>3/20/10</td>\n",
       "      <td>110</td>\n",
       "      <td>5.0</td>\n",
       "      <td>2010</td>\n",
       "      <td>30000000.0</td>\n",
       "      <td>967000.0</td>\n",
       "    </tr>\n",
       "  </tbody>\n",
       "</table>\n",
       "</div>"
      ],
      "text/plain": [
       "         id    imdb_id  popularity    budget  revenue original_title  runtime  \\\n",
       "2090  42194  tt0411951     0.59643  30000000   967000         TEKKEN       92   \n",
       "\n",
       "                                           genres release_date  vote_count  \\\n",
       "2090  Crime|Drama|Action|Thriller|Science Fiction      3/20/10         110   \n",
       "\n",
       "      vote_average  release_year  budget_adj  revenue_adj  \n",
       "2090           5.0          2010  30000000.0     967000.0  "
      ]
     },
     "execution_count": 12,
     "metadata": {},
     "output_type": "execute_result"
    }
   ],
   "source": [
    "df[df.duplicated()]"
   ]
  },
  {
   "cell_type": "markdown",
   "metadata": {},
   "source": [
    "**4-Drop duplicated rows in our the dataFrame:**"
   ]
  },
  {
   "cell_type": "code",
   "execution_count": 13,
   "metadata": {},
   "outputs": [],
   "source": [
    "df.drop_duplicates(inplace=True)"
   ]
  },
  {
   "cell_type": "code",
   "execution_count": 14,
   "metadata": {},
   "outputs": [
    {
     "data": {
      "text/plain": [
       "(10834, 14)"
      ]
     },
     "execution_count": 14,
     "metadata": {},
     "output_type": "execute_result"
    }
   ],
   "source": [
    "# Check for the number of rows and columns in the dataFrame:\n",
    "df.shape"
   ]
  },
  {
   "cell_type": "markdown",
   "metadata": {},
   "source": [
    "**Defining a function to get alot of information about the dataFrame:**"
   ]
  },
  {
   "cell_type": "code",
   "execution_count": 48,
   "metadata": {},
   "outputs": [],
   "source": [
    "def assessingDataFrame(df):\n",
    "    \"\"\" This function is used to get alot of information about the dataFrame \"\"\"\n",
    "    \n",
    "    print(\"Numper Of Rows:\")\n",
    "    rows=df.shape[0]\n",
    "    print(rows)\n",
    "    \n",
    "    print(\"\\n\\n---------------------------------------------------------------\")\n",
    "    print(\"Numper Of columns:\")\n",
    "    columns=df.shape[1]\n",
    "    print(columns)\n",
    "    \n",
    "    print(\"\\n\\n---------------------------------------------------------------\")\n",
    "    print(\"Numper Of Duplicated Rows:\")\n",
    "    duplicatedRows=sum(df.duplicated())\n",
    "    print(duplicatedRows)\n",
    "    \n",
    "    print(\"\\n\\n---------------------------------------------------------------\")\n",
    "    print(\"Data Frame Info:\")  \n",
    "    info=df.info()\n",
    "    print(info)\n",
    "    \n",
    "    print(\"\\n\\n---------------------------------------------------------------\")\n",
    "    print(\"Rows with missing data:\") \n",
    "    print(df.count().max()-df.count().min())\n",
    "    \n",
    "    print(\"\\n\\n---------------------------------------------------------------\")\n",
    "    print(\"number of Rows with missing data for each column:\")\n",
    "    print(df.isnull().sum())\n",
    "    print(\"\\n\\n---------------------------------------------------------------\")\n",
    "    \n",
    "    \n",
    "    columnsWithMissingValues=[]\n",
    "    for c in df.columns:\n",
    "        if df[c].count() < rows:\n",
    "            columnsWithMissingValues.append(c)\n",
    "            \n",
    "    print(\"\\n\\n---------------------------------------------------------------\")\n",
    "    print(\"Columns With Missing Values:\")       \n",
    "    print(columnsWithMissingValues)\n",
    "    \n",
    "    print(\"\\n\\n---------------------------------------------------------------\")\n",
    "    print(\"Numper of uniqe values in each column:\")\n",
    "    nUniqe=df.nunique()\n",
    "    print(nUniqe)\n",
    "    \n",
    "    print(\"\\n\\n---------------------------------------------------------------\")\n",
    "    for c in df.columns:\n",
    "        print(\"{} : unique values are: {} \\n\".format(c,df[c].unique()))\n",
    "    "
   ]
  },
  {
   "cell_type": "code",
   "execution_count": 49,
   "metadata": {
    "scrolled": true
   },
   "outputs": [
    {
     "name": "stdout",
     "output_type": "stream",
     "text": [
      "Numper Of Rows:\n",
      "10834\n",
      "\n",
      "\n",
      "---------------------------------------------------------------\n",
      "Numper Of columns:\n",
      "14\n",
      "\n",
      "\n",
      "---------------------------------------------------------------\n",
      "Numper Of Duplicated Rows:\n",
      "0\n",
      "\n",
      "\n",
      "---------------------------------------------------------------\n",
      "Data Frame Info:\n",
      "<class 'pandas.core.frame.DataFrame'>\n",
      "Int64Index: 10834 entries, 0 to 10865\n",
      "Data columns (total 14 columns):\n",
      " #   Column          Non-Null Count  Dtype  \n",
      "---  ------          --------------  -----  \n",
      " 0   id              10834 non-null  int64  \n",
      " 1   imdb_id         10834 non-null  object \n",
      " 2   popularity      10834 non-null  float64\n",
      " 3   budget          10834 non-null  int64  \n",
      " 4   revenue         10834 non-null  int64  \n",
      " 5   original_title  10834 non-null  object \n",
      " 6   runtime         10834 non-null  int64  \n",
      " 7   genres          10834 non-null  object \n",
      " 8   release_date    10834 non-null  object \n",
      " 9   vote_count      10834 non-null  int64  \n",
      " 10  vote_average    10834 non-null  float64\n",
      " 11  release_year    10834 non-null  int64  \n",
      " 12  budget_adj      10834 non-null  float64\n",
      " 13  revenue_adj     10834 non-null  float64\n",
      "dtypes: float64(4), int64(6), object(4)\n",
      "memory usage: 1.6+ MB\n",
      "None\n",
      "\n",
      "\n",
      "---------------------------------------------------------------\n",
      "Rows with missing data:\n",
      "0\n",
      "\n",
      "\n",
      "---------------------------------------------------------------\n",
      "number of Rows with missing data for each column:\n",
      "id                0\n",
      "imdb_id           0\n",
      "popularity        0\n",
      "budget            0\n",
      "revenue           0\n",
      "original_title    0\n",
      "runtime           0\n",
      "genres            0\n",
      "release_date      0\n",
      "vote_count        0\n",
      "vote_average      0\n",
      "release_year      0\n",
      "budget_adj        0\n",
      "revenue_adj       0\n",
      "dtype: int64\n",
      "\n",
      "\n",
      "---------------------------------------------------------------\n",
      "\n",
      "\n",
      "---------------------------------------------------------------\n",
      "Columns With Missing Values:\n",
      "[]\n",
      "\n",
      "\n",
      "---------------------------------------------------------------\n",
      "Numper of uniqe values in each column:\n",
      "id                10834\n",
      "imdb_id           10834\n",
      "popularity        10784\n",
      "budget              556\n",
      "revenue            4702\n",
      "original_title    10540\n",
      "runtime             246\n",
      "genres             2037\n",
      "release_date       5902\n",
      "vote_count         1289\n",
      "vote_average         71\n",
      "release_year         56\n",
      "budget_adj         2612\n",
      "revenue_adj        4840\n",
      "dtype: int64\n",
      "\n",
      "\n",
      "---------------------------------------------------------------\n",
      "id : unique values are: [135397  76341 262500 ...  39768  21449  22293] \n",
      "\n",
      "imdb_id : unique values are: ['tt0369610' 'tt1392190' 'tt2908446' ... 'tt0060161' 'tt0061177'\n",
      " 'tt0060666'] \n",
      "\n",
      "popularity : unique values are: [32.985763 28.419936 13.112507 ...  0.065141  0.064317  0.035919] \n",
      "\n",
      "budget : unique values are: [150000000 110000000 200000000 190000000 135000000 155000000 108000000\n",
      "  74000000 175000000 245000000 176000003  15000000  88000000 280000000\n",
      "  44000000  48000000 130000000  95000000 160000000  30000000  40000000\n",
      "  28000000  68000000  81000000  20000000  61000000         0  49000000\n",
      "  29000000  58000000   6000000  50000000  11000000  90000000  75000000\n",
      "  25000000  10000000  12000000   4000000  11800000  35000000  55000000\n",
      "  60000000 105000000  26000000  70000000 120000001   3500000  65000000\n",
      "  50100000 100000000  13000000  99000000   2500000  34000000  80000000\n",
      "  17000000  31000000   5000000  64000000  11930000   8500000  23000000\n",
      "  53000000   8900000    700000  14800000  19500000   1000000   8000000\n",
      "   1800000   2000000  18000000    630019  14000000  37000000   7000000\n",
      "   3000000   9600000   2240000   3300000    100000  21000000   5300000\n",
      "   9000000    447524   1950000   4400000  27000000    500000    600000\n",
      "   7500000   1500000    650000   9500000   3400000   1300000   1900000\n",
      "  13500000        10 165000000 170000000 125000000 250000000 127000000\n",
      "  85000000 210000000  42000000 178000000  58800000 140000000 180000000\n",
      " 145000000 132000000  16000000  45000000   5500000  12600000 120000000\n",
      " 103000000   4900000  66000000  22000000  13200000  24000000  12250000\n",
      "   6500000  22500000  19800000  12500000   6700000  13300000    200000\n",
      "   6600000  36000000   2800000   2400000   3150000   2700000   1200000\n",
      "    318000  12700000    325927    156660    950000        18   6900000\n",
      "         1   5900000    150000   1400000       117    750000   3250000\n",
      "         5   2489400    900000     10000    810000    230000    530000\n",
      " 237000000  23600000  38000000  33000000  18500000  47000000  32000000\n",
      "   4500000  14700000  41000000  39000000  87000000   4300000    800000\n",
      "  78146652   5100000   6300000  19000000   7300000   3700000   6400000\n",
      "   5060730   2900000    425000   2011799        75   1700000      5000\n",
      "   3200000       108    250000     31192      3500  69000000 260000000\n",
      " 117000000 112000000  52000000  21800000   1987650   5773100   5800000\n",
      "   4466000   3100000    550000 104002432   4600000     30000     65000\n",
      " 425000000    967686   7347125   2300000   7200000   3167000    300000\n",
      "   1100000   1250000         3  63000000 115000000  10500000 133000000\n",
      "  73000000     25000  34200000  51000000        80  82000000  21500000\n",
      "        25   4250000    450000   3800000   9210000  93000000  98000000\n",
      "  52500000  92000000 102000000 137000000  72000000  57000000  21150000\n",
      " 107000000  17700000  62000000   2079000  94000000   4800000    165000\n",
      " 185000000 225000000  20500000  10800000  11500000         8   6100000\n",
      "  14100000   8376800  15400000   4700000  25100000   5750000   9100000\n",
      "     20000   3600000    515788   4180000    170000 380000000  32500000\n",
      " 163000000  50200000  79000000  56000000  49900000  14350531  12468389\n",
      "  15774948 195000000   7700000   4798235   4317946    350000        93\n",
      "    125000  10831173    135000    930000  19100000   8400000   1150000\n",
      "   6965576    134005     70000   8978040      8000   4200000     17000\n",
      "     45202   1340000        97   6800000        20   2902660     61733\n",
      "  59000000 139000000  54000000   3500159  46000000  84000000        68\n",
      "        28  43000000  78000000  15600000     40000     27000  17080000\n",
      "    400000   7400000  10300000        32 220000000 215000000  44500000\n",
      " 209000000   3730500  26350000  16600000   5600000    850000  18200000\n",
      "   4275000        17   5990000   2840000     10400   8510000       110\n",
      "  76000000  27440000  16500000   7800000    780000   8256269   4361898\n",
      "    569217       300  16700000 116000000    786675 255000000   1030064\n",
      "  10900000    125687  27220000  25500000   8200000  17500000   6218100\n",
      "   5200000   1104000  83000000        15    567000    725000     50000\n",
      "   1052753    996519        89   5112027   7720000    232000       750\n",
      "       650    348164  12305523  17900000   2200000    945000       114\n",
      "    860000   2410000 113000000 126000000 207000000    169000    475000\n",
      "  14200000    818418   1549000   4750000  10284523     16398     72000\n",
      "   1600000 270000000  82500000 149000000  15500000  72500000  37665000\n",
      "  16800000  19400000    994000   9364800   2380000  14500000   8300000\n",
      "      2500     79000      7000    130000  24665810    825000   5400000\n",
      "  74500000     74050  19250000        14   2600000        90    823258\n",
      "   8800000     12000     90000   3352254     75000 300000000 258000000\n",
      "    160000  86000000     15000  51500000  67000000  10200000  60795000\n",
      "  27500000    230400       700        12    120000    441892      6000\n",
      "  31500000    239000    420000   1355000  14400000  25300000   1746964\n",
      "   8600000   2550000   1065000  32350000  40600000   6200000  10100000\n",
      "        27   5952000    980385  29500000  30250000   8169363         6\n",
      "  13365000    220000  11700000   3705538   4439832   9300000   1750000\n",
      "   4100000    145786     62000   2962051  25530000 123000000 127500000\n",
      "  12800000  41300000  63600000  10700000     60000         2     35000\n",
      "  71000000   1350000  16400000  18598420  13800000    787000    645180\n",
      "   8045760     33000  12300000     23000  22700000     25710   1880006\n",
      "        95    114000    275000     85000    179000    980000   2650000\n",
      "       126   2135161    783000    777000   1645000        30  37931000\n",
      "    225000  22997992   2068041   5037000    806948    270000  14600000\n",
      "        21  19885552     68000    947000    640000       200  31115000\n",
      "   9400000     66500       113  24500000    111000     22500   4638783\n",
      "  25485000   3716946     45000   5760000       115    360000   6244087\n",
      "    175000   7920000        11    660000   6727000    315000   1377800\n",
      "   4653000   5115000     19000] \n",
      "\n",
      "revenue : unique values are: [1513528810  378436354  295238201 ...     321952   78000000   33736689] \n",
      "\n",
      "original_title : unique values are: ['Jurassic World' 'Mad Max: Fury Road' 'Insurgent' ...\n",
      " 'Beregis Avtomobilya' \"What's Up, Tiger Lily?\" 'Manos: The Hands of Fate'] \n",
      "\n",
      "runtime : unique values are: [124 120 119 136 137 156 125 141  91  94 148 108 105 167 109 115 112 130\n",
      " 123 114 131 128 132 103 117 101  93 111 147 106 122 116  97  92 118 121\n",
      " 100 133  96 102  95  88  99  89 107   0   8 104  98 113  85  90  84  82\n",
      "  87  31  83  48  67  86  74 134   7 110  72  80 127  76   5  56 135  44\n",
      "  75  81   4 129  78 138 300  62  43  77 153  70  73  14  57  71  79 168\n",
      "  60 246  54  52  16  65  58  18  64  30 240  17 169 144 145 139 165 142\n",
      " 164  22   6 150 146 233  41 210  23   3   9 152 282 163 285  66 175 155\n",
      " 177 143 162 158 140 161 170 149  36  27  61  11  26 176  69  38  59  25\n",
      " 500 166 185  20  21 338 182 421  15 540 184  12 178  47  63  45 160 189\n",
      " 157 159 126 188 181 180  33 257 183 705 174 400 191 213 179 470  32 173\n",
      "  42  10 501  55  68  13 154 202 201  40 192 247 208  50  49 336 900 250\n",
      " 877 226 254 235 224 366 171 273 172  24 389 252   2 360  19 214 352 248\n",
      " 194 186 187 199 566 561 223 151 270 550  34 294 219  28 229  29 193 197\n",
      " 225  53 195 242 417 292 372 236 230 200  51 216] \n",
      "\n",
      "genres : unique values are: ['Action|Adventure|Science Fiction|Thriller'\n",
      " 'Adventure|Science Fiction|Thriller'\n",
      " 'Action|Adventure|Science Fiction|Fantasy' ...\n",
      " 'Adventure|Drama|Action|Family|Foreign' 'Comedy|Family|Mystery|Romance'\n",
      " 'Mystery|Science Fiction|Thriller|Drama'] \n",
      "\n",
      "release_date : unique values are: ['6/9/15' '5/13/15' '3/18/15' ... '12/21/66' '11/2/66' '11/15/66'] \n",
      "\n",
      "vote_count : unique values are: [5562 6185 2480 ...  641 1113  786] \n",
      "\n",
      "vote_average : unique values are: [6.5 7.1 6.3 7.5 7.3 7.2 5.8 7.6 8.  6.2 5.2 7.4 6.1 7.  6.8 5.3 7.8 6.4\n",
      " 6.6 7.7 5.6 6.9 5.9 6.7 5.5 5.  4.4 5.4 5.1 4.8 5.7 4.1 3.9 4.5 6.  4.2\n",
      " 3.6 4.3 4.9 4.7 4.  3.5 3.8 3.3 3.7 4.6 7.9 8.2 2.6 3.1 8.9 3.2 2.4 8.4\n",
      " 3.  2.8 3.4 8.8 8.1 8.3 2.7 2.5 2.1 2.9 8.5 9.2 2.2 2.  8.7 2.3 1.5] \n",
      "\n",
      "release_year : unique values are: [2015 2014 1977 2009 2010 1999 2001 2008 2011 2002 1994 2012 2003 1997\n",
      " 2013 1985 2005 2006 2004 1972 1980 2007 1979 1984 1983 1995 1992 1981\n",
      " 1996 2000 1982 1998 1989 1991 1988 1987 1968 1974 1975 1962 1964 1971\n",
      " 1990 1961 1960 1976 1993 1967 1963 1986 1973 1970 1965 1969 1978 1966] \n",
      "\n",
      "budget_adj : unique values are: [1.37999939e+08 1.01199955e+08 1.83999919e+08 ... 3.43626452e+07\n",
      " 4.70261028e+06 1.27642279e+05] \n",
      "\n",
      "revenue_adj : unique values are: [1.39244589e+09 3.48161292e+08 2.71619025e+08 ... 4.03080882e+07\n",
      " 1.34360294e+08 8.06161763e+07] \n",
      "\n"
     ]
    }
   ],
   "source": [
    "assessingDataFrame(df)"
   ]
  },
  {
   "cell_type": "code",
   "execution_count": 17,
   "metadata": {},
   "outputs": [
    {
     "data": {
      "text/html": [
       "<div>\n",
       "<style scoped>\n",
       "    .dataframe tbody tr th:only-of-type {\n",
       "        vertical-align: middle;\n",
       "    }\n",
       "\n",
       "    .dataframe tbody tr th {\n",
       "        vertical-align: top;\n",
       "    }\n",
       "\n",
       "    .dataframe thead th {\n",
       "        text-align: right;\n",
       "    }\n",
       "</style>\n",
       "<table border=\"1\" class=\"dataframe\">\n",
       "  <thead>\n",
       "    <tr style=\"text-align: right;\">\n",
       "      <th></th>\n",
       "      <th>id</th>\n",
       "      <th>imdb_id</th>\n",
       "      <th>popularity</th>\n",
       "      <th>budget</th>\n",
       "      <th>revenue</th>\n",
       "      <th>original_title</th>\n",
       "      <th>runtime</th>\n",
       "      <th>genres</th>\n",
       "      <th>release_date</th>\n",
       "      <th>vote_count</th>\n",
       "      <th>vote_average</th>\n",
       "      <th>release_year</th>\n",
       "      <th>budget_adj</th>\n",
       "      <th>revenue_adj</th>\n",
       "    </tr>\n",
       "  </thead>\n",
       "  <tbody>\n",
       "    <tr>\n",
       "      <th>0</th>\n",
       "      <td>135397</td>\n",
       "      <td>tt0369610</td>\n",
       "      <td>32.985763</td>\n",
       "      <td>150000000</td>\n",
       "      <td>1513528810</td>\n",
       "      <td>Jurassic World</td>\n",
       "      <td>124</td>\n",
       "      <td>Action|Adventure|Science Fiction|Thriller</td>\n",
       "      <td>6/9/15</td>\n",
       "      <td>5562</td>\n",
       "      <td>6.5</td>\n",
       "      <td>2015</td>\n",
       "      <td>1.379999e+08</td>\n",
       "      <td>1.392446e+09</td>\n",
       "    </tr>\n",
       "    <tr>\n",
       "      <th>1</th>\n",
       "      <td>76341</td>\n",
       "      <td>tt1392190</td>\n",
       "      <td>28.419936</td>\n",
       "      <td>150000000</td>\n",
       "      <td>378436354</td>\n",
       "      <td>Mad Max: Fury Road</td>\n",
       "      <td>120</td>\n",
       "      <td>Action|Adventure|Science Fiction|Thriller</td>\n",
       "      <td>5/13/15</td>\n",
       "      <td>6185</td>\n",
       "      <td>7.1</td>\n",
       "      <td>2015</td>\n",
       "      <td>1.379999e+08</td>\n",
       "      <td>3.481613e+08</td>\n",
       "    </tr>\n",
       "    <tr>\n",
       "      <th>2</th>\n",
       "      <td>262500</td>\n",
       "      <td>tt2908446</td>\n",
       "      <td>13.112507</td>\n",
       "      <td>110000000</td>\n",
       "      <td>295238201</td>\n",
       "      <td>Insurgent</td>\n",
       "      <td>119</td>\n",
       "      <td>Adventure|Science Fiction|Thriller</td>\n",
       "      <td>3/18/15</td>\n",
       "      <td>2480</td>\n",
       "      <td>6.3</td>\n",
       "      <td>2015</td>\n",
       "      <td>1.012000e+08</td>\n",
       "      <td>2.716190e+08</td>\n",
       "    </tr>\n",
       "    <tr>\n",
       "      <th>3</th>\n",
       "      <td>140607</td>\n",
       "      <td>tt2488496</td>\n",
       "      <td>11.173104</td>\n",
       "      <td>200000000</td>\n",
       "      <td>2068178225</td>\n",
       "      <td>Star Wars: The Force Awakens</td>\n",
       "      <td>136</td>\n",
       "      <td>Action|Adventure|Science Fiction|Fantasy</td>\n",
       "      <td>12/15/15</td>\n",
       "      <td>5292</td>\n",
       "      <td>7.5</td>\n",
       "      <td>2015</td>\n",
       "      <td>1.839999e+08</td>\n",
       "      <td>1.902723e+09</td>\n",
       "    </tr>\n",
       "    <tr>\n",
       "      <th>4</th>\n",
       "      <td>168259</td>\n",
       "      <td>tt2820852</td>\n",
       "      <td>9.335014</td>\n",
       "      <td>190000000</td>\n",
       "      <td>1506249360</td>\n",
       "      <td>Furious 7</td>\n",
       "      <td>137</td>\n",
       "      <td>Action|Crime|Thriller</td>\n",
       "      <td>4/1/15</td>\n",
       "      <td>2947</td>\n",
       "      <td>7.3</td>\n",
       "      <td>2015</td>\n",
       "      <td>1.747999e+08</td>\n",
       "      <td>1.385749e+09</td>\n",
       "    </tr>\n",
       "  </tbody>\n",
       "</table>\n",
       "</div>"
      ],
      "text/plain": [
       "       id    imdb_id  popularity     budget     revenue  \\\n",
       "0  135397  tt0369610   32.985763  150000000  1513528810   \n",
       "1   76341  tt1392190   28.419936  150000000   378436354   \n",
       "2  262500  tt2908446   13.112507  110000000   295238201   \n",
       "3  140607  tt2488496   11.173104  200000000  2068178225   \n",
       "4  168259  tt2820852    9.335014  190000000  1506249360   \n",
       "\n",
       "                 original_title  runtime  \\\n",
       "0                Jurassic World      124   \n",
       "1            Mad Max: Fury Road      120   \n",
       "2                     Insurgent      119   \n",
       "3  Star Wars: The Force Awakens      136   \n",
       "4                     Furious 7      137   \n",
       "\n",
       "                                      genres release_date  vote_count  \\\n",
       "0  Action|Adventure|Science Fiction|Thriller       6/9/15        5562   \n",
       "1  Action|Adventure|Science Fiction|Thriller      5/13/15        6185   \n",
       "2         Adventure|Science Fiction|Thriller      3/18/15        2480   \n",
       "3   Action|Adventure|Science Fiction|Fantasy     12/15/15        5292   \n",
       "4                      Action|Crime|Thriller       4/1/15        2947   \n",
       "\n",
       "   vote_average  release_year    budget_adj   revenue_adj  \n",
       "0           6.5          2015  1.379999e+08  1.392446e+09  \n",
       "1           7.1          2015  1.379999e+08  3.481613e+08  \n",
       "2           6.3          2015  1.012000e+08  2.716190e+08  \n",
       "3           7.5          2015  1.839999e+08  1.902723e+09  \n",
       "4           7.3          2015  1.747999e+08  1.385749e+09  "
      ]
     },
     "execution_count": 17,
     "metadata": {},
     "output_type": "execute_result"
    }
   ],
   "source": [
    "df.head()"
   ]
  },
  {
   "cell_type": "markdown",
   "metadata": {},
   "source": [
    "<a id='eda'></a>\n",
    "## Exploratory Data Analysis\n",
    "\n",
    "\n",
    "### Research Question 1 (Which genres are most popular from year to year? )"
   ]
  },
  {
   "cell_type": "markdown",
   "metadata": {},
   "source": [
    "**To answer this question we have to group the data by \"release_year\":**"
   ]
  },
  {
   "cell_type": "code",
   "execution_count": 18,
   "metadata": {
    "scrolled": true
   },
   "outputs": [
    {
     "data": {
      "text/plain": [
       "<pandas.core.groupby.generic.DataFrameGroupBy object at 0x0000023CBD574DF0>"
      ]
     },
     "execution_count": 18,
     "metadata": {},
     "output_type": "execute_result"
    }
   ],
   "source": [
    "fg=df.groupby([\"release_year\"])\n",
    "fg"
   ]
  },
  {
   "cell_type": "code",
   "execution_count": 19,
   "metadata": {},
   "outputs": [
    {
     "data": {
      "text/plain": [
       "dict"
      ]
     },
     "execution_count": 19,
     "metadata": {},
     "output_type": "execute_result"
    }
   ],
   "source": [
    "type(fg.groups)"
   ]
  },
  {
   "cell_type": "markdown",
   "metadata": {},
   "source": [
    "**We want a dictionary called \"d\" to be filled with the year as a \"key\" and the most popular genre in that year as a \"value\".**"
   ]
  },
  {
   "cell_type": "code",
   "execution_count": 20,
   "metadata": {},
   "outputs": [],
   "source": [
    "d={}\n",
    "for k , v in fg.groups.items():\n",
    "    movies=[]\n",
    "    for idx in v :\n",
    "        movies.append(df.loc[idx,\"genres\"])\n",
    "    movieSeries=pd.Series(movies)\n",
    "    countsSeries=movieSeries.value_counts()\n",
    "    heighiestCountIndex = countsSeries.idxmax()\n",
    "    d[k]=heighiestCountIndex\n",
    "        \n",
    "    "
   ]
  },
  {
   "cell_type": "markdown",
   "metadata": {},
   "source": [
    "**Now we have our dictionary \"d\",\n",
    "the year as a \"key\" and the most popular genre in that year as a \"value\".**"
   ]
  },
  {
   "cell_type": "code",
   "execution_count": 21,
   "metadata": {
    "scrolled": true
   },
   "outputs": [
    {
     "data": {
      "text/plain": [
       "{1960: 'Horror',\n",
       " 1961: 'Horror',\n",
       " 1962: 'Drama',\n",
       " 1963: 'Horror',\n",
       " 1964: 'Comedy|Romance',\n",
       " 1965: 'Drama',\n",
       " 1966: 'Action|Western',\n",
       " 1967: 'Comedy|Drama|Romance',\n",
       " 1968: 'Drama',\n",
       " 1969: 'Drama',\n",
       " 1970: 'Horror',\n",
       " 1971: 'Drama',\n",
       " 1972: 'Comedy',\n",
       " 1973: 'Crime|Drama',\n",
       " 1974: 'Drama',\n",
       " 1975: 'Drama',\n",
       " 1976: 'Horror|Thriller',\n",
       " 1977: 'Horror|Science Fiction',\n",
       " 1978: 'Horror',\n",
       " 1979: 'Comedy',\n",
       " 1980: 'Action|Comedy',\n",
       " 1981: 'Comedy',\n",
       " 1982: 'Comedy',\n",
       " 1983: 'Comedy',\n",
       " 1984: 'Comedy',\n",
       " 1985: 'Drama',\n",
       " 1986: 'Comedy',\n",
       " 1987: 'Comedy',\n",
       " 1988: 'Drama',\n",
       " 1989: 'Comedy',\n",
       " 1990: 'Comedy|Drama',\n",
       " 1991: 'Drama',\n",
       " 1992: 'Drama',\n",
       " 1993: 'Comedy',\n",
       " 1994: 'Comedy',\n",
       " 1995: 'Comedy',\n",
       " 1996: 'Comedy',\n",
       " 1997: 'Comedy',\n",
       " 1998: 'Comedy|Drama',\n",
       " 1999: 'Comedy',\n",
       " 2000: 'Comedy',\n",
       " 2001: 'Comedy',\n",
       " 2002: 'Comedy|Drama',\n",
       " 2003: 'Comedy',\n",
       " 2004: 'Comedy',\n",
       " 2005: 'Drama',\n",
       " 2006: 'Drama',\n",
       " 2007: 'Comedy',\n",
       " 2008: 'Drama',\n",
       " 2009: 'Comedy',\n",
       " 2010: 'Drama',\n",
       " 2011: 'Drama',\n",
       " 2012: 'Drama',\n",
       " 2013: 'Drama',\n",
       " 2014: 'Drama',\n",
       " 2015: 'Drama'}"
      ]
     },
     "execution_count": 21,
     "metadata": {},
     "output_type": "execute_result"
    }
   ],
   "source": [
    "d"
   ]
  },
  {
   "cell_type": "code",
   "execution_count": 51,
   "metadata": {},
   "outputs": [
    {
     "data": {
      "text/plain": [
       "'Drama'"
      ]
     },
     "execution_count": 51,
     "metadata": {},
     "output_type": "execute_result"
    }
   ],
   "source": [
    "d[2015]"
   ]
  },
  {
   "cell_type": "markdown",
   "metadata": {},
   "source": [
    "### Research Question 2  (What kinds of properties are associated with movies that have high revenues?)"
   ]
  },
  {
   "cell_type": "code",
   "execution_count": 22,
   "metadata": {
    "scrolled": false
   },
   "outputs": [
    {
     "data": {
      "text/html": [
       "<div>\n",
       "<style scoped>\n",
       "    .dataframe tbody tr th:only-of-type {\n",
       "        vertical-align: middle;\n",
       "    }\n",
       "\n",
       "    .dataframe tbody tr th {\n",
       "        vertical-align: top;\n",
       "    }\n",
       "\n",
       "    .dataframe thead th {\n",
       "        text-align: right;\n",
       "    }\n",
       "</style>\n",
       "<table border=\"1\" class=\"dataframe\">\n",
       "  <thead>\n",
       "    <tr style=\"text-align: right;\">\n",
       "      <th></th>\n",
       "      <th>id</th>\n",
       "      <th>imdb_id</th>\n",
       "      <th>popularity</th>\n",
       "      <th>budget</th>\n",
       "      <th>revenue</th>\n",
       "      <th>original_title</th>\n",
       "      <th>runtime</th>\n",
       "      <th>genres</th>\n",
       "      <th>release_date</th>\n",
       "      <th>vote_count</th>\n",
       "      <th>vote_average</th>\n",
       "      <th>release_year</th>\n",
       "      <th>budget_adj</th>\n",
       "      <th>revenue_adj</th>\n",
       "    </tr>\n",
       "  </thead>\n",
       "  <tbody>\n",
       "    <tr>\n",
       "      <th>0</th>\n",
       "      <td>135397</td>\n",
       "      <td>tt0369610</td>\n",
       "      <td>32.985763</td>\n",
       "      <td>150000000</td>\n",
       "      <td>1513528810</td>\n",
       "      <td>Jurassic World</td>\n",
       "      <td>124</td>\n",
       "      <td>Action|Adventure|Science Fiction|Thriller</td>\n",
       "      <td>6/9/15</td>\n",
       "      <td>5562</td>\n",
       "      <td>6.5</td>\n",
       "      <td>2015</td>\n",
       "      <td>1.379999e+08</td>\n",
       "      <td>1.392446e+09</td>\n",
       "    </tr>\n",
       "    <tr>\n",
       "      <th>1</th>\n",
       "      <td>76341</td>\n",
       "      <td>tt1392190</td>\n",
       "      <td>28.419936</td>\n",
       "      <td>150000000</td>\n",
       "      <td>378436354</td>\n",
       "      <td>Mad Max: Fury Road</td>\n",
       "      <td>120</td>\n",
       "      <td>Action|Adventure|Science Fiction|Thriller</td>\n",
       "      <td>5/13/15</td>\n",
       "      <td>6185</td>\n",
       "      <td>7.1</td>\n",
       "      <td>2015</td>\n",
       "      <td>1.379999e+08</td>\n",
       "      <td>3.481613e+08</td>\n",
       "    </tr>\n",
       "    <tr>\n",
       "      <th>2</th>\n",
       "      <td>262500</td>\n",
       "      <td>tt2908446</td>\n",
       "      <td>13.112507</td>\n",
       "      <td>110000000</td>\n",
       "      <td>295238201</td>\n",
       "      <td>Insurgent</td>\n",
       "      <td>119</td>\n",
       "      <td>Adventure|Science Fiction|Thriller</td>\n",
       "      <td>3/18/15</td>\n",
       "      <td>2480</td>\n",
       "      <td>6.3</td>\n",
       "      <td>2015</td>\n",
       "      <td>1.012000e+08</td>\n",
       "      <td>2.716190e+08</td>\n",
       "    </tr>\n",
       "    <tr>\n",
       "      <th>3</th>\n",
       "      <td>140607</td>\n",
       "      <td>tt2488496</td>\n",
       "      <td>11.173104</td>\n",
       "      <td>200000000</td>\n",
       "      <td>2068178225</td>\n",
       "      <td>Star Wars: The Force Awakens</td>\n",
       "      <td>136</td>\n",
       "      <td>Action|Adventure|Science Fiction|Fantasy</td>\n",
       "      <td>12/15/15</td>\n",
       "      <td>5292</td>\n",
       "      <td>7.5</td>\n",
       "      <td>2015</td>\n",
       "      <td>1.839999e+08</td>\n",
       "      <td>1.902723e+09</td>\n",
       "    </tr>\n",
       "    <tr>\n",
       "      <th>4</th>\n",
       "      <td>168259</td>\n",
       "      <td>tt2820852</td>\n",
       "      <td>9.335014</td>\n",
       "      <td>190000000</td>\n",
       "      <td>1506249360</td>\n",
       "      <td>Furious 7</td>\n",
       "      <td>137</td>\n",
       "      <td>Action|Crime|Thriller</td>\n",
       "      <td>4/1/15</td>\n",
       "      <td>2947</td>\n",
       "      <td>7.3</td>\n",
       "      <td>2015</td>\n",
       "      <td>1.747999e+08</td>\n",
       "      <td>1.385749e+09</td>\n",
       "    </tr>\n",
       "  </tbody>\n",
       "</table>\n",
       "</div>"
      ],
      "text/plain": [
       "       id    imdb_id  popularity     budget     revenue  \\\n",
       "0  135397  tt0369610   32.985763  150000000  1513528810   \n",
       "1   76341  tt1392190   28.419936  150000000   378436354   \n",
       "2  262500  tt2908446   13.112507  110000000   295238201   \n",
       "3  140607  tt2488496   11.173104  200000000  2068178225   \n",
       "4  168259  tt2820852    9.335014  190000000  1506249360   \n",
       "\n",
       "                 original_title  runtime  \\\n",
       "0                Jurassic World      124   \n",
       "1            Mad Max: Fury Road      120   \n",
       "2                     Insurgent      119   \n",
       "3  Star Wars: The Force Awakens      136   \n",
       "4                     Furious 7      137   \n",
       "\n",
       "                                      genres release_date  vote_count  \\\n",
       "0  Action|Adventure|Science Fiction|Thriller       6/9/15        5562   \n",
       "1  Action|Adventure|Science Fiction|Thriller      5/13/15        6185   \n",
       "2         Adventure|Science Fiction|Thriller      3/18/15        2480   \n",
       "3   Action|Adventure|Science Fiction|Fantasy     12/15/15        5292   \n",
       "4                      Action|Crime|Thriller       4/1/15        2947   \n",
       "\n",
       "   vote_average  release_year    budget_adj   revenue_adj  \n",
       "0           6.5          2015  1.379999e+08  1.392446e+09  \n",
       "1           7.1          2015  1.379999e+08  3.481613e+08  \n",
       "2           6.3          2015  1.012000e+08  2.716190e+08  \n",
       "3           7.5          2015  1.839999e+08  1.902723e+09  \n",
       "4           7.3          2015  1.747999e+08  1.385749e+09  "
      ]
     },
     "execution_count": 22,
     "metadata": {},
     "output_type": "execute_result"
    }
   ],
   "source": [
    "# Check our dataFrame:\n",
    "df.head()"
   ]
  },
  {
   "cell_type": "markdown",
   "metadata": {},
   "source": [
    "**To answer this question we have to study the relation between the following:\n",
    "\"genres\",\"budget\",\"runtime\",and the \"revenue\".**"
   ]
  },
  {
   "cell_type": "code",
   "execution_count": 23,
   "metadata": {
    "scrolled": true
   },
   "outputs": [
    {
     "data": {
      "text/html": [
       "<div>\n",
       "<style scoped>\n",
       "    .dataframe tbody tr th:only-of-type {\n",
       "        vertical-align: middle;\n",
       "    }\n",
       "\n",
       "    .dataframe tbody tr th {\n",
       "        vertical-align: top;\n",
       "    }\n",
       "\n",
       "    .dataframe thead th {\n",
       "        text-align: right;\n",
       "    }\n",
       "</style>\n",
       "<table border=\"1\" class=\"dataframe\">\n",
       "  <thead>\n",
       "    <tr style=\"text-align: right;\">\n",
       "      <th></th>\n",
       "      <th>budget</th>\n",
       "      <th>runtime</th>\n",
       "      <th>revenue</th>\n",
       "    </tr>\n",
       "    <tr>\n",
       "      <th>genres</th>\n",
       "      <th></th>\n",
       "      <th></th>\n",
       "      <th></th>\n",
       "    </tr>\n",
       "  </thead>\n",
       "  <tbody>\n",
       "    <tr>\n",
       "      <th>Crime|Drama|Mystery|Thriller|Action</th>\n",
       "      <td>22000000.0</td>\n",
       "      <td>114.0</td>\n",
       "      <td>1.106280e+09</td>\n",
       "    </tr>\n",
       "    <tr>\n",
       "      <th>Action|Adventure|Science Fiction|Fantasy</th>\n",
       "      <td>100000000.0</td>\n",
       "      <td>75.5</td>\n",
       "      <td>1.034089e+09</td>\n",
       "    </tr>\n",
       "    <tr>\n",
       "      <th>Family|Fantasy|Adventure</th>\n",
       "      <td>200000000.0</td>\n",
       "      <td>108.0</td>\n",
       "      <td>1.025467e+09</td>\n",
       "    </tr>\n",
       "    <tr>\n",
       "      <th>Adventure|Fantasy|Family|Mystery</th>\n",
       "      <td>150000000.0</td>\n",
       "      <td>138.0</td>\n",
       "      <td>9.382127e+08</td>\n",
       "    </tr>\n",
       "    <tr>\n",
       "      <th>Science Fiction|Thriller|Action|Adventure</th>\n",
       "      <td>130000000.0</td>\n",
       "      <td>146.0</td>\n",
       "      <td>8.474235e+08</td>\n",
       "    </tr>\n",
       "    <tr>\n",
       "      <th>...</th>\n",
       "      <td>...</td>\n",
       "      <td>...</td>\n",
       "      <td>...</td>\n",
       "    </tr>\n",
       "    <tr>\n",
       "      <th>Adventure|Animation</th>\n",
       "      <td>0.0</td>\n",
       "      <td>55.5</td>\n",
       "      <td>0.000000e+00</td>\n",
       "    </tr>\n",
       "    <tr>\n",
       "      <th>Drama|Thriller|Romance|Crime</th>\n",
       "      <td>11000000.0</td>\n",
       "      <td>96.0</td>\n",
       "      <td>0.000000e+00</td>\n",
       "    </tr>\n",
       "    <tr>\n",
       "      <th>Adventure|Action|Western|Thriller|Mystery</th>\n",
       "      <td>0.0</td>\n",
       "      <td>118.0</td>\n",
       "      <td>0.000000e+00</td>\n",
       "    </tr>\n",
       "    <tr>\n",
       "      <th>Drama|Thriller|Science Fiction|Romance|Foreign</th>\n",
       "      <td>0.0</td>\n",
       "      <td>141.0</td>\n",
       "      <td>0.000000e+00</td>\n",
       "    </tr>\n",
       "    <tr>\n",
       "      <th>Fantasy|Animation|Comedy|Drama</th>\n",
       "      <td>0.0</td>\n",
       "      <td>62.0</td>\n",
       "      <td>0.000000e+00</td>\n",
       "    </tr>\n",
       "  </tbody>\n",
       "</table>\n",
       "<p>2037 rows × 3 columns</p>\n",
       "</div>"
      ],
      "text/plain": [
       "                                                     budget  runtime  \\\n",
       "genres                                                                 \n",
       "Crime|Drama|Mystery|Thriller|Action              22000000.0    114.0   \n",
       "Action|Adventure|Science Fiction|Fantasy        100000000.0     75.5   \n",
       "Family|Fantasy|Adventure                        200000000.0    108.0   \n",
       "Adventure|Fantasy|Family|Mystery                150000000.0    138.0   \n",
       "Science Fiction|Thriller|Action|Adventure       130000000.0    146.0   \n",
       "...                                                     ...      ...   \n",
       "Adventure|Animation                                     0.0     55.5   \n",
       "Drama|Thriller|Romance|Crime                     11000000.0     96.0   \n",
       "Adventure|Action|Western|Thriller|Mystery               0.0    118.0   \n",
       "Drama|Thriller|Science Fiction|Romance|Foreign          0.0    141.0   \n",
       "Fantasy|Animation|Comedy|Drama                          0.0     62.0   \n",
       "\n",
       "                                                     revenue  \n",
       "genres                                                        \n",
       "Crime|Drama|Mystery|Thriller|Action             1.106280e+09  \n",
       "Action|Adventure|Science Fiction|Fantasy        1.034089e+09  \n",
       "Family|Fantasy|Adventure                        1.025467e+09  \n",
       "Adventure|Fantasy|Family|Mystery                9.382127e+08  \n",
       "Science Fiction|Thriller|Action|Adventure       8.474235e+08  \n",
       "...                                                      ...  \n",
       "Adventure|Animation                             0.000000e+00  \n",
       "Drama|Thriller|Romance|Crime                    0.000000e+00  \n",
       "Adventure|Action|Western|Thriller|Mystery       0.000000e+00  \n",
       "Drama|Thriller|Science Fiction|Romance|Foreign  0.000000e+00  \n",
       "Fantasy|Animation|Comedy|Drama                  0.000000e+00  \n",
       "\n",
       "[2037 rows x 3 columns]"
      ]
     },
     "execution_count": 23,
     "metadata": {},
     "output_type": "execute_result"
    }
   ],
   "source": [
    "# let's group the data by genre and sort the results by revenue in an ascending order:\n",
    "rev_df=df.groupby([\"genres\"])[[\"budget\",\"runtime\",\"revenue\"]].mean().sort_values(by=\"revenue\",ascending=False)\n",
    "rev_df"
   ]
  },
  {
   "cell_type": "code",
   "execution_count": 25,
   "metadata": {
    "scrolled": false
   },
   "outputs": [
    {
     "data": {
      "text/plain": [
       "<matplotlib.axes._subplots.AxesSubplot at 0x23cbd772a90>"
      ]
     },
     "execution_count": 25,
     "metadata": {},
     "output_type": "execute_result"
    },
    {
     "data": {
      "image/png": "[encoded data removed]",
      "text/plain": [
       "<Figure size 432x288 with 1 Axes>"
      ]
     },
     "metadata": {
      "needs_background": "light"
     },
     "output_type": "display_data"
    }
   ],
   "source": [
    "# let's' draw a scatter plot between budget and revenue using \"df\" :\n",
    "df.plot(x=\"budget\",y=\"revenue\",kind=\"scatter\")\n"
   ]
  },
  {
   "cell_type": "markdown",
   "metadata": {},
   "source": [
    "**Increasing the budget will increase the revenue (Positive Correlation)**"
   ]
  },
  {
   "cell_type": "code",
   "execution_count": 26,
   "metadata": {},
   "outputs": [
    {
     "data": {
      "text/plain": [
       "<matplotlib.axes._subplots.AxesSubplot at 0x23cbd824070>"
      ]
     },
     "execution_count": 26,
     "metadata": {},
     "output_type": "execute_result"
    },
    {
     "data": {
      "image/png": "[encoded data removed]",
      "text/plain": [
       "<Figure size 432x288 with 1 Axes>"
      ]
     },
     "metadata": {
      "needs_background": "light"
     },
     "output_type": "display_data"
    }
   ],
   "source": [
    "# let's' draw a scatter plot between runtime and revenue using \"df\" :\n",
    "df.plot(x=\"runtime\",y=\"revenue\",kind=\"scatter\")"
   ]
  },
  {
   "cell_type": "code",
   "execution_count": 28,
   "metadata": {
    "scrolled": true
   },
   "outputs": [
    {
     "data": {
      "text/html": [
       "<div>\n",
       "<style scoped>\n",
       "    .dataframe tbody tr th:only-of-type {\n",
       "        vertical-align: middle;\n",
       "    }\n",
       "\n",
       "    .dataframe tbody tr th {\n",
       "        vertical-align: top;\n",
       "    }\n",
       "\n",
       "    .dataframe thead th {\n",
       "        text-align: right;\n",
       "    }\n",
       "</style>\n",
       "<table border=\"1\" class=\"dataframe\">\n",
       "  <thead>\n",
       "    <tr style=\"text-align: right;\">\n",
       "      <th></th>\n",
       "      <th>budget</th>\n",
       "      <th>runtime</th>\n",
       "      <th>revenue</th>\n",
       "    </tr>\n",
       "  </thead>\n",
       "  <tbody>\n",
       "    <tr>\n",
       "      <th>count</th>\n",
       "      <td>2.037000e+03</td>\n",
       "      <td>2037.000000</td>\n",
       "      <td>2.037000e+03</td>\n",
       "    </tr>\n",
       "    <tr>\n",
       "      <th>mean</th>\n",
       "      <td>1.966635e+07</td>\n",
       "      <td>103.165784</td>\n",
       "      <td>5.057766e+07</td>\n",
       "    </tr>\n",
       "    <tr>\n",
       "      <th>std</th>\n",
       "      <td>3.310806e+07</td>\n",
       "      <td>31.338829</td>\n",
       "      <td>1.138597e+08</td>\n",
       "    </tr>\n",
       "    <tr>\n",
       "      <th>min</th>\n",
       "      <td>0.000000e+00</td>\n",
       "      <td>0.000000</td>\n",
       "      <td>0.000000e+00</td>\n",
       "    </tr>\n",
       "    <tr>\n",
       "      <th>25%</th>\n",
       "      <td>0.000000e+00</td>\n",
       "      <td>91.000000</td>\n",
       "      <td>0.000000e+00</td>\n",
       "    </tr>\n",
       "    <tr>\n",
       "      <th>50%</th>\n",
       "      <td>5.000000e+06</td>\n",
       "      <td>100.428571</td>\n",
       "      <td>4.507844e+06</td>\n",
       "    </tr>\n",
       "    <tr>\n",
       "      <th>75%</th>\n",
       "      <td>2.400000e+07</td>\n",
       "      <td>112.333333</td>\n",
       "      <td>4.450640e+07</td>\n",
       "    </tr>\n",
       "    <tr>\n",
       "      <th>max</th>\n",
       "      <td>4.250000e+08</td>\n",
       "      <td>540.000000</td>\n",
       "      <td>1.106280e+09</td>\n",
       "    </tr>\n",
       "  </tbody>\n",
       "</table>\n",
       "</div>"
      ],
      "text/plain": [
       "             budget      runtime       revenue\n",
       "count  2.037000e+03  2037.000000  2.037000e+03\n",
       "mean   1.966635e+07   103.165784  5.057766e+07\n",
       "std    3.310806e+07    31.338829  1.138597e+08\n",
       "min    0.000000e+00     0.000000  0.000000e+00\n",
       "25%    0.000000e+00    91.000000  0.000000e+00\n",
       "50%    5.000000e+06   100.428571  4.507844e+06\n",
       "75%    2.400000e+07   112.333333  4.450640e+07\n",
       "max    4.250000e+08   540.000000  1.106280e+09"
      ]
     },
     "execution_count": 28,
     "metadata": {},
     "output_type": "execute_result"
    }
   ],
   "source": [
    "rev_des=rev_df.describe()\n",
    "rev_des"
   ]
  },
  {
   "cell_type": "code",
   "execution_count": 29,
   "metadata": {},
   "outputs": [
    {
     "data": {
      "text/plain": [
       "103.16578395529072"
      ]
     },
     "execution_count": 29,
     "metadata": {},
     "output_type": "execute_result"
    }
   ],
   "source": [
    "# mean_runtime\n",
    "mean_runtime=rev_des.loc[\"mean\",\"runtime\"]\n",
    "mean_runtime"
   ]
  },
  {
   "cell_type": "code",
   "execution_count": 30,
   "metadata": {},
   "outputs": [
    {
     "data": {
      "text/plain": [
       "24000000.0"
      ]
     },
     "execution_count": 30,
     "metadata": {},
     "output_type": "execute_result"
    }
   ],
   "source": [
    "rev_des.loc[\"75%\",\"budget\"]"
   ]
  },
  {
   "cell_type": "code",
   "execution_count": 31,
   "metadata": {},
   "outputs": [
    {
     "data": {
      "text/plain": [
       "44506403.44444445"
      ]
     },
     "execution_count": 31,
     "metadata": {},
     "output_type": "execute_result"
    }
   ],
   "source": [
    "rev_des.loc[\"75%\",\"revenue\"]"
   ]
  },
  {
   "cell_type": "code",
   "execution_count": 32,
   "metadata": {
    "scrolled": true
   },
   "outputs": [
    {
     "data": {
      "text/html": [
       "<div>\n",
       "<style scoped>\n",
       "    .dataframe tbody tr th:only-of-type {\n",
       "        vertical-align: middle;\n",
       "    }\n",
       "\n",
       "    .dataframe tbody tr th {\n",
       "        vertical-align: top;\n",
       "    }\n",
       "\n",
       "    .dataframe thead th {\n",
       "        text-align: right;\n",
       "    }\n",
       "</style>\n",
       "<table border=\"1\" class=\"dataframe\">\n",
       "  <thead>\n",
       "    <tr style=\"text-align: right;\">\n",
       "      <th></th>\n",
       "      <th>budget</th>\n",
       "      <th>runtime</th>\n",
       "      <th>revenue</th>\n",
       "    </tr>\n",
       "    <tr>\n",
       "      <th>genres</th>\n",
       "      <th></th>\n",
       "      <th></th>\n",
       "      <th></th>\n",
       "    </tr>\n",
       "  </thead>\n",
       "  <tbody>\n",
       "    <tr>\n",
       "      <th>Crime|Drama|Mystery|Thriller|Action</th>\n",
       "      <td>2.200000e+07</td>\n",
       "      <td>114.000000</td>\n",
       "      <td>1.106280e+09</td>\n",
       "    </tr>\n",
       "    <tr>\n",
       "      <th>Action|Adventure|Science Fiction|Fantasy</th>\n",
       "      <td>1.000000e+08</td>\n",
       "      <td>75.500000</td>\n",
       "      <td>1.034089e+09</td>\n",
       "    </tr>\n",
       "    <tr>\n",
       "      <th>Family|Fantasy|Adventure</th>\n",
       "      <td>2.000000e+08</td>\n",
       "      <td>108.000000</td>\n",
       "      <td>1.025467e+09</td>\n",
       "    </tr>\n",
       "    <tr>\n",
       "      <th>Adventure|Fantasy|Family|Mystery</th>\n",
       "      <td>1.500000e+08</td>\n",
       "      <td>138.000000</td>\n",
       "      <td>9.382127e+08</td>\n",
       "    </tr>\n",
       "    <tr>\n",
       "      <th>Science Fiction|Thriller|Action|Adventure</th>\n",
       "      <td>1.300000e+08</td>\n",
       "      <td>146.000000</td>\n",
       "      <td>8.474235e+08</td>\n",
       "    </tr>\n",
       "    <tr>\n",
       "      <th>...</th>\n",
       "      <td>...</td>\n",
       "      <td>...</td>\n",
       "      <td>...</td>\n",
       "    </tr>\n",
       "    <tr>\n",
       "      <th>Drama|Thriller|Crime|Adventure</th>\n",
       "      <td>1.600000e+07</td>\n",
       "      <td>130.000000</td>\n",
       "      <td>4.536100e+07</td>\n",
       "    </tr>\n",
       "    <tr>\n",
       "      <th>Adventure|Drama</th>\n",
       "      <td>1.751572e+07</td>\n",
       "      <td>123.333333</td>\n",
       "      <td>4.531050e+07</td>\n",
       "    </tr>\n",
       "    <tr>\n",
       "      <th>Family|Adventure|Science Fiction</th>\n",
       "      <td>1.300000e+07</td>\n",
       "      <td>89.000000</td>\n",
       "      <td>4.530000e+07</td>\n",
       "    </tr>\n",
       "    <tr>\n",
       "      <th>Action|Drama|Thriller</th>\n",
       "      <td>2.181915e+07</td>\n",
       "      <td>104.361702</td>\n",
       "      <td>4.488233e+07</td>\n",
       "    </tr>\n",
       "    <tr>\n",
       "      <th>War|Action|Thriller|Science Fiction</th>\n",
       "      <td>6.500000e+07</td>\n",
       "      <td>93.000000</td>\n",
       "      <td>4.480678e+07</td>\n",
       "    </tr>\n",
       "  </tbody>\n",
       "</table>\n",
       "<p>509 rows × 3 columns</p>\n",
       "</div>"
      ],
      "text/plain": [
       "                                                 budget     runtime  \\\n",
       "genres                                                                \n",
       "Crime|Drama|Mystery|Thriller|Action        2.200000e+07  114.000000   \n",
       "Action|Adventure|Science Fiction|Fantasy   1.000000e+08   75.500000   \n",
       "Family|Fantasy|Adventure                   2.000000e+08  108.000000   \n",
       "Adventure|Fantasy|Family|Mystery           1.500000e+08  138.000000   \n",
       "Science Fiction|Thriller|Action|Adventure  1.300000e+08  146.000000   \n",
       "...                                                 ...         ...   \n",
       "Drama|Thriller|Crime|Adventure             1.600000e+07  130.000000   \n",
       "Adventure|Drama                            1.751572e+07  123.333333   \n",
       "Family|Adventure|Science Fiction           1.300000e+07   89.000000   \n",
       "Action|Drama|Thriller                      2.181915e+07  104.361702   \n",
       "War|Action|Thriller|Science Fiction        6.500000e+07   93.000000   \n",
       "\n",
       "                                                revenue  \n",
       "genres                                                   \n",
       "Crime|Drama|Mystery|Thriller|Action        1.106280e+09  \n",
       "Action|Adventure|Science Fiction|Fantasy   1.034089e+09  \n",
       "Family|Fantasy|Adventure                   1.025467e+09  \n",
       "Adventure|Fantasy|Family|Mystery           9.382127e+08  \n",
       "Science Fiction|Thriller|Action|Adventure  8.474235e+08  \n",
       "...                                                 ...  \n",
       "Drama|Thriller|Crime|Adventure             4.536100e+07  \n",
       "Adventure|Drama                            4.531050e+07  \n",
       "Family|Adventure|Science Fiction           4.530000e+07  \n",
       "Action|Drama|Thriller                      4.488233e+07  \n",
       "War|Action|Thriller|Science Fiction        4.480678e+07  \n",
       "\n",
       "[509 rows x 3 columns]"
      ]
     },
     "execution_count": 32,
     "metadata": {},
     "output_type": "execute_result"
    }
   ],
   "source": [
    "# heighiest revenues Vs movies genres \n",
    "top=rev_df[rev_df[\"revenue\"] > rev_des.loc[\"75%\",\"revenue\"]]\n",
    "top"
   ]
  },
  {
   "cell_type": "code",
   "execution_count": 33,
   "metadata": {
    "scrolled": true
   },
   "outputs": [
    {
     "data": {
      "text/html": [
       "<div>\n",
       "<style scoped>\n",
       "    .dataframe tbody tr th:only-of-type {\n",
       "        vertical-align: middle;\n",
       "    }\n",
       "\n",
       "    .dataframe tbody tr th {\n",
       "        vertical-align: top;\n",
       "    }\n",
       "\n",
       "    .dataframe thead th {\n",
       "        text-align: right;\n",
       "    }\n",
       "</style>\n",
       "<table border=\"1\" class=\"dataframe\">\n",
       "  <thead>\n",
       "    <tr style=\"text-align: right;\">\n",
       "      <th></th>\n",
       "      <th>budget</th>\n",
       "      <th>runtime</th>\n",
       "      <th>revenue</th>\n",
       "    </tr>\n",
       "  </thead>\n",
       "  <tbody>\n",
       "    <tr>\n",
       "      <th>count</th>\n",
       "      <td>5.090000e+02</td>\n",
       "      <td>509.00000</td>\n",
       "      <td>5.090000e+02</td>\n",
       "    </tr>\n",
       "    <tr>\n",
       "      <th>mean</th>\n",
       "      <td>5.580919e+07</td>\n",
       "      <td>110.25402</td>\n",
       "      <td>1.818985e+08</td>\n",
       "    </tr>\n",
       "    <tr>\n",
       "      <th>std</th>\n",
       "      <td>4.189046e+07</td>\n",
       "      <td>20.44768</td>\n",
       "      <td>1.689050e+08</td>\n",
       "    </tr>\n",
       "    <tr>\n",
       "      <th>min</th>\n",
       "      <td>0.000000e+00</td>\n",
       "      <td>56.00000</td>\n",
       "      <td>4.480678e+07</td>\n",
       "    </tr>\n",
       "    <tr>\n",
       "      <th>25%</th>\n",
       "      <td>2.269565e+07</td>\n",
       "      <td>97.00000</td>\n",
       "      <td>7.182885e+07</td>\n",
       "    </tr>\n",
       "    <tr>\n",
       "      <th>50%</th>\n",
       "      <td>4.500000e+07</td>\n",
       "      <td>107.50000</td>\n",
       "      <td>1.180633e+08</td>\n",
       "    </tr>\n",
       "    <tr>\n",
       "      <th>75%</th>\n",
       "      <td>8.000000e+07</td>\n",
       "      <td>121.00000</td>\n",
       "      <td>2.181762e+08</td>\n",
       "    </tr>\n",
       "    <tr>\n",
       "      <th>max</th>\n",
       "      <td>2.090000e+08</td>\n",
       "      <td>216.00000</td>\n",
       "      <td>1.106280e+09</td>\n",
       "    </tr>\n",
       "  </tbody>\n",
       "</table>\n",
       "</div>"
      ],
      "text/plain": [
       "             budget    runtime       revenue\n",
       "count  5.090000e+02  509.00000  5.090000e+02\n",
       "mean   5.580919e+07  110.25402  1.818985e+08\n",
       "std    4.189046e+07   20.44768  1.689050e+08\n",
       "min    0.000000e+00   56.00000  4.480678e+07\n",
       "25%    2.269565e+07   97.00000  7.182885e+07\n",
       "50%    4.500000e+07  107.50000  1.180633e+08\n",
       "75%    8.000000e+07  121.00000  2.181762e+08\n",
       "max    2.090000e+08  216.00000  1.106280e+09"
      ]
     },
     "execution_count": 33,
     "metadata": {},
     "output_type": "execute_result"
    }
   ],
   "source": [
    "top.describe()"
   ]
  },
  {
   "cell_type": "markdown",
   "metadata": {},
   "source": [
    "**So from the top 509 movies the mean runtime should be around 110 minutes.**"
   ]
  },
  {
   "cell_type": "code",
   "execution_count": 44,
   "metadata": {},
   "outputs": [
    {
     "data": {
      "text/plain": [
       "<matplotlib.axes._subplots.AxesSubplot at 0x23cbf2d2850>"
      ]
     },
     "execution_count": 44,
     "metadata": {},
     "output_type": "execute_result"
    },
    {
     "data": {
      "image/png": "[encoded data removed]",
      "text/plain": [
       "<Figure size 432x288 with 1 Axes>"
      ]
     },
     "metadata": {
      "needs_background": "light"
     },
     "output_type": "display_data"
    }
   ],
   "source": [
    "# \"revenue\" Vs \"popularity\"\n",
    "df.plot(y=\"revenue\",x=\"popularity\",kind=\"scatter\")"
   ]
  },
  {
   "cell_type": "markdown",
   "metadata": {},
   "source": [
    "**Increasing popularity has a positive effect on revenue (Positive Correlation)**"
   ]
  },
  {
   "cell_type": "code",
   "execution_count": 36,
   "metadata": {
    "scrolled": true
   },
   "outputs": [
    {
     "data": {
      "text/html": [
       "<div>\n",
       "<style scoped>\n",
       "    .dataframe tbody tr th:only-of-type {\n",
       "        vertical-align: middle;\n",
       "    }\n",
       "\n",
       "    .dataframe tbody tr th {\n",
       "        vertical-align: top;\n",
       "    }\n",
       "\n",
       "    .dataframe thead th {\n",
       "        text-align: right;\n",
       "    }\n",
       "</style>\n",
       "<table border=\"1\" class=\"dataframe\">\n",
       "  <thead>\n",
       "    <tr style=\"text-align: right;\">\n",
       "      <th></th>\n",
       "      <th>budget</th>\n",
       "      <th>runtime</th>\n",
       "      <th>revenue</th>\n",
       "    </tr>\n",
       "    <tr>\n",
       "      <th>genres</th>\n",
       "      <th></th>\n",
       "      <th></th>\n",
       "      <th></th>\n",
       "    </tr>\n",
       "  </thead>\n",
       "  <tbody>\n",
       "    <tr>\n",
       "      <th>Crime|Drama|Mystery|Thriller|Action</th>\n",
       "      <td>22000000.0</td>\n",
       "      <td>114.0</td>\n",
       "      <td>1.106280e+09</td>\n",
       "    </tr>\n",
       "    <tr>\n",
       "      <th>Action|Adventure|Science Fiction|Fantasy</th>\n",
       "      <td>100000000.0</td>\n",
       "      <td>75.5</td>\n",
       "      <td>1.034089e+09</td>\n",
       "    </tr>\n",
       "    <tr>\n",
       "      <th>Family|Fantasy|Adventure</th>\n",
       "      <td>200000000.0</td>\n",
       "      <td>108.0</td>\n",
       "      <td>1.025467e+09</td>\n",
       "    </tr>\n",
       "    <tr>\n",
       "      <th>Adventure|Fantasy|Family|Mystery</th>\n",
       "      <td>150000000.0</td>\n",
       "      <td>138.0</td>\n",
       "      <td>9.382127e+08</td>\n",
       "    </tr>\n",
       "    <tr>\n",
       "      <th>Science Fiction|Thriller|Action|Adventure</th>\n",
       "      <td>130000000.0</td>\n",
       "      <td>146.0</td>\n",
       "      <td>8.474235e+08</td>\n",
       "    </tr>\n",
       "    <tr>\n",
       "      <th>Action|Thriller|Science Fiction|Mystery|Adventure</th>\n",
       "      <td>160000000.0</td>\n",
       "      <td>148.0</td>\n",
       "      <td>8.255000e+08</td>\n",
       "    </tr>\n",
       "    <tr>\n",
       "      <th>Science Fiction|Adventure|Family|Fantasy</th>\n",
       "      <td>10500000.0</td>\n",
       "      <td>115.0</td>\n",
       "      <td>7.929106e+08</td>\n",
       "    </tr>\n",
       "    <tr>\n",
       "      <th>Family|Animation|Drama</th>\n",
       "      <td>45000000.0</td>\n",
       "      <td>89.0</td>\n",
       "      <td>7.882418e+08</td>\n",
       "    </tr>\n",
       "    <tr>\n",
       "      <th>Fantasy|Adventure|Action|Family|Romance</th>\n",
       "      <td>180000000.0</td>\n",
       "      <td>97.0</td>\n",
       "      <td>7.584104e+08</td>\n",
       "    </tr>\n",
       "    <tr>\n",
       "      <th>Comedy|Adventure|Fantasy|Animation|Family</th>\n",
       "      <td>165000000.0</td>\n",
       "      <td>93.0</td>\n",
       "      <td>7.526009e+08</td>\n",
       "    </tr>\n",
       "  </tbody>\n",
       "</table>\n",
       "</div>"
      ],
      "text/plain": [
       "                                                        budget  runtime  \\\n",
       "genres                                                                    \n",
       "Crime|Drama|Mystery|Thriller|Action                 22000000.0    114.0   \n",
       "Action|Adventure|Science Fiction|Fantasy           100000000.0     75.5   \n",
       "Family|Fantasy|Adventure                           200000000.0    108.0   \n",
       "Adventure|Fantasy|Family|Mystery                   150000000.0    138.0   \n",
       "Science Fiction|Thriller|Action|Adventure          130000000.0    146.0   \n",
       "Action|Thriller|Science Fiction|Mystery|Adventure  160000000.0    148.0   \n",
       "Science Fiction|Adventure|Family|Fantasy            10500000.0    115.0   \n",
       "Family|Animation|Drama                              45000000.0     89.0   \n",
       "Fantasy|Adventure|Action|Family|Romance            180000000.0     97.0   \n",
       "Comedy|Adventure|Fantasy|Animation|Family          165000000.0     93.0   \n",
       "\n",
       "                                                        revenue  \n",
       "genres                                                           \n",
       "Crime|Drama|Mystery|Thriller|Action                1.106280e+09  \n",
       "Action|Adventure|Science Fiction|Fantasy           1.034089e+09  \n",
       "Family|Fantasy|Adventure                           1.025467e+09  \n",
       "Adventure|Fantasy|Family|Mystery                   9.382127e+08  \n",
       "Science Fiction|Thriller|Action|Adventure          8.474235e+08  \n",
       "Action|Thriller|Science Fiction|Mystery|Adventure  8.255000e+08  \n",
       "Science Fiction|Adventure|Family|Fantasy           7.929106e+08  \n",
       "Family|Animation|Drama                             7.882418e+08  \n",
       "Fantasy|Adventure|Action|Family|Romance            7.584104e+08  \n",
       "Comedy|Adventure|Fantasy|Animation|Family          7.526009e+08  "
      ]
     },
     "execution_count": 36,
     "metadata": {},
     "output_type": "execute_result"
    }
   ],
   "source": [
    "# top 10 genres:\n",
    "top10=top[:10]\n",
    "top10"
   ]
  },
  {
   "cell_type": "markdown",
   "metadata": {},
   "source": [
    "**To make a successful movie it should be one of the \"top 10\" genres, or at least one of the \"top\" genres.**"
   ]
  },
  {
   "cell_type": "code",
   "execution_count": 37,
   "metadata": {},
   "outputs": [
    {
     "data": {
      "text/plain": [
       "<matplotlib.legend.Legend at 0x23cbee87fd0>"
      ]
     },
     "execution_count": 37,
     "metadata": {},
     "output_type": "execute_result"
    },
    {
     "data": {
      "image/png": "[encoded data removed]",
      "text/plain": [
       "<Figure size 936x360 with 1 Axes>"
      ]
     },
     "metadata": {
      "needs_background": "light"
     },
     "output_type": "display_data"
    }
   ],
   "source": [
    "# A comparison between the revenue and budget for the top 10 movies:\n",
    "h1=top10[\"revenue\"]\n",
    "h2=top10[\"budget\"]\n",
    "location=np.arange(0,10)\n",
    "xAxis=list(top10.index)\n",
    "w=0.2\n",
    "figure(figsize=(13,5))\n",
    "plt.bar(x=location,height=h1,color=\"blue\",width=w,label=\"Top_10_revenue\")\n",
    "plt.bar(x=location+w,height=h2,color=\"red\",width=w,label=\"Top_10_budget\")\n",
    "plt.xticks(location,xAxis,rotation=\"vertical\")\n",
    "plt.legend()"
   ]
  },
  {
   "cell_type": "code",
   "execution_count": 38,
   "metadata": {
    "scrolled": true
   },
   "outputs": [
    {
     "data": {
      "text/html": [
       "<div>\n",
       "<style scoped>\n",
       "    .dataframe tbody tr th:only-of-type {\n",
       "        vertical-align: middle;\n",
       "    }\n",
       "\n",
       "    .dataframe tbody tr th {\n",
       "        vertical-align: top;\n",
       "    }\n",
       "\n",
       "    .dataframe thead th {\n",
       "        text-align: right;\n",
       "    }\n",
       "</style>\n",
       "<table border=\"1\" class=\"dataframe\">\n",
       "  <thead>\n",
       "    <tr style=\"text-align: right;\">\n",
       "      <th></th>\n",
       "      <th>id</th>\n",
       "      <th>imdb_id</th>\n",
       "      <th>popularity</th>\n",
       "      <th>budget</th>\n",
       "      <th>revenue</th>\n",
       "      <th>original_title</th>\n",
       "      <th>runtime</th>\n",
       "      <th>genres</th>\n",
       "      <th>release_date</th>\n",
       "      <th>vote_count</th>\n",
       "      <th>vote_average</th>\n",
       "      <th>release_year</th>\n",
       "      <th>budget_adj</th>\n",
       "      <th>revenue_adj</th>\n",
       "    </tr>\n",
       "  </thead>\n",
       "  <tbody>\n",
       "    <tr>\n",
       "      <th>0</th>\n",
       "      <td>135397</td>\n",
       "      <td>tt0369610</td>\n",
       "      <td>32.985763</td>\n",
       "      <td>150000000</td>\n",
       "      <td>1513528810</td>\n",
       "      <td>Jurassic World</td>\n",
       "      <td>124</td>\n",
       "      <td>Action|Adventure|Science Fiction|Thriller</td>\n",
       "      <td>6/9/15</td>\n",
       "      <td>5562</td>\n",
       "      <td>6.5</td>\n",
       "      <td>2015</td>\n",
       "      <td>1.379999e+08</td>\n",
       "      <td>1.392446e+09</td>\n",
       "    </tr>\n",
       "    <tr>\n",
       "      <th>1</th>\n",
       "      <td>76341</td>\n",
       "      <td>tt1392190</td>\n",
       "      <td>28.419936</td>\n",
       "      <td>150000000</td>\n",
       "      <td>378436354</td>\n",
       "      <td>Mad Max: Fury Road</td>\n",
       "      <td>120</td>\n",
       "      <td>Action|Adventure|Science Fiction|Thriller</td>\n",
       "      <td>5/13/15</td>\n",
       "      <td>6185</td>\n",
       "      <td>7.1</td>\n",
       "      <td>2015</td>\n",
       "      <td>1.379999e+08</td>\n",
       "      <td>3.481613e+08</td>\n",
       "    </tr>\n",
       "    <tr>\n",
       "      <th>2</th>\n",
       "      <td>262500</td>\n",
       "      <td>tt2908446</td>\n",
       "      <td>13.112507</td>\n",
       "      <td>110000000</td>\n",
       "      <td>295238201</td>\n",
       "      <td>Insurgent</td>\n",
       "      <td>119</td>\n",
       "      <td>Adventure|Science Fiction|Thriller</td>\n",
       "      <td>3/18/15</td>\n",
       "      <td>2480</td>\n",
       "      <td>6.3</td>\n",
       "      <td>2015</td>\n",
       "      <td>1.012000e+08</td>\n",
       "      <td>2.716190e+08</td>\n",
       "    </tr>\n",
       "    <tr>\n",
       "      <th>3</th>\n",
       "      <td>140607</td>\n",
       "      <td>tt2488496</td>\n",
       "      <td>11.173104</td>\n",
       "      <td>200000000</td>\n",
       "      <td>2068178225</td>\n",
       "      <td>Star Wars: The Force Awakens</td>\n",
       "      <td>136</td>\n",
       "      <td>Action|Adventure|Science Fiction|Fantasy</td>\n",
       "      <td>12/15/15</td>\n",
       "      <td>5292</td>\n",
       "      <td>7.5</td>\n",
       "      <td>2015</td>\n",
       "      <td>1.839999e+08</td>\n",
       "      <td>1.902723e+09</td>\n",
       "    </tr>\n",
       "    <tr>\n",
       "      <th>4</th>\n",
       "      <td>168259</td>\n",
       "      <td>tt2820852</td>\n",
       "      <td>9.335014</td>\n",
       "      <td>190000000</td>\n",
       "      <td>1506249360</td>\n",
       "      <td>Furious 7</td>\n",
       "      <td>137</td>\n",
       "      <td>Action|Crime|Thriller</td>\n",
       "      <td>4/1/15</td>\n",
       "      <td>2947</td>\n",
       "      <td>7.3</td>\n",
       "      <td>2015</td>\n",
       "      <td>1.747999e+08</td>\n",
       "      <td>1.385749e+09</td>\n",
       "    </tr>\n",
       "  </tbody>\n",
       "</table>\n",
       "</div>"
      ],
      "text/plain": [
       "       id    imdb_id  popularity     budget     revenue  \\\n",
       "0  135397  tt0369610   32.985763  150000000  1513528810   \n",
       "1   76341  tt1392190   28.419936  150000000   378436354   \n",
       "2  262500  tt2908446   13.112507  110000000   295238201   \n",
       "3  140607  tt2488496   11.173104  200000000  2068178225   \n",
       "4  168259  tt2820852    9.335014  190000000  1506249360   \n",
       "\n",
       "                 original_title  runtime  \\\n",
       "0                Jurassic World      124   \n",
       "1            Mad Max: Fury Road      120   \n",
       "2                     Insurgent      119   \n",
       "3  Star Wars: The Force Awakens      136   \n",
       "4                     Furious 7      137   \n",
       "\n",
       "                                      genres release_date  vote_count  \\\n",
       "0  Action|Adventure|Science Fiction|Thriller       6/9/15        5562   \n",
       "1  Action|Adventure|Science Fiction|Thriller      5/13/15        6185   \n",
       "2         Adventure|Science Fiction|Thriller      3/18/15        2480   \n",
       "3   Action|Adventure|Science Fiction|Fantasy     12/15/15        5292   \n",
       "4                      Action|Crime|Thriller       4/1/15        2947   \n",
       "\n",
       "   vote_average  release_year    budget_adj   revenue_adj  \n",
       "0           6.5          2015  1.379999e+08  1.392446e+09  \n",
       "1           7.1          2015  1.379999e+08  3.481613e+08  \n",
       "2           6.3          2015  1.012000e+08  2.716190e+08  \n",
       "3           7.5          2015  1.839999e+08  1.902723e+09  \n",
       "4           7.3          2015  1.747999e+08  1.385749e+09  "
      ]
     },
     "execution_count": 38,
     "metadata": {},
     "output_type": "execute_result"
    }
   ],
   "source": [
    "df.head()"
   ]
  },
  {
   "cell_type": "markdown",
   "metadata": {},
   "source": [
    "### Research Question 3  (What kinds of properties are associated with popularity of movies?)"
   ]
  },
  {
   "cell_type": "code",
   "execution_count": 39,
   "metadata": {},
   "outputs": [
    {
     "data": {
      "text/plain": [
       "<matplotlib.axes._subplots.AxesSubplot at 0x23cbeee5bb0>"
      ]
     },
     "execution_count": 39,
     "metadata": {},
     "output_type": "execute_result"
    },
    {
     "data": {
      "image/png": "[encoded data removed]",
      "text/plain": [
       "<Figure size 432x288 with 1 Axes>"
      ]
     },
     "metadata": {
      "needs_background": "light"
     },
     "output_type": "display_data"
    }
   ],
   "source": [
    "# \"vote_count\" Vs \"popularity\"\n",
    "df.plot(x=\"vote_count\",y=\"popularity\",kind=\"scatter\")\n"
   ]
  },
  {
   "cell_type": "markdown",
   "metadata": {},
   "source": [
    "**Increasing in vote_count has positive effectve Correlation**"
   ]
  },
  {
   "cell_type": "code",
   "execution_count": 43,
   "metadata": {},
   "outputs": [
    {
     "data": {
      "text/plain": [
       "<matplotlib.axes._subplots.AxesSubplot at 0x23cbf0b65e0>"
      ]
     },
     "execution_count": 43,
     "metadata": {},
     "output_type": "execute_result"
    },
    {
     "data": {
      "image/png": "[encoded data removed]",
      "text/plain": [
       "<Figure size 432x288 with 1 Axes>"
      ]
     },
     "metadata": {
      "needs_background": "light"
     },
     "output_type": "display_data"
    }
   ],
   "source": [
    "# \"vote_average\" Vs \"popularity\"\n",
    "df.plot(x=\"vote_average\",y=\"popularity\",kind=\"scatter\")\n"
   ]
  },
  {
   "cell_type": "markdown",
   "metadata": {},
   "source": [
    "**Increasing in vote_average has positive effect on popularity (Positive Correlation)**"
   ]
  },
  {
   "cell_type": "code",
   "execution_count": 42,
   "metadata": {},
   "outputs": [
    {
     "data": {
      "text/plain": [
       "<matplotlib.axes._subplots.AxesSubplot at 0x23cbd77a0a0>"
      ]
     },
     "execution_count": 42,
     "metadata": {},
     "output_type": "execute_result"
    },
    {
     "data": {
      "image/png": "[encoded data removed]",
      "text/plain": [
       "<Figure size 432x288 with 1 Axes>"
      ]
     },
     "metadata": {
      "needs_background": "light"
     },
     "output_type": "display_data"
    }
   ],
   "source": [
    "df.plot(x=\"budget\",y=\"popularity\",kind=\"scatter\")\n"
   ]
  },
  {
   "cell_type": "markdown",
   "metadata": {},
   "source": [
    "**Increasing in budget has small positive effect on popularity.**"
   ]
  },
  {
   "cell_type": "markdown",
   "metadata": {},
   "source": [
    "<a id='conclusions'></a>\n",
    "## Conclusions\n",
    "\n",
    "> **1-Increasing the budget will increase the revenue (Positive Correlation)**\n",
    ">\n",
    ">**2-From the top 509 movies the mean runtime should be around 110 minutes.**\n",
    ">\n",
    ">**3-Increasing popularity has a positive effect on revenue (Positive Correlation)**\n",
    ">\n",
    ">**4-To make a successful movie it should be one of the \"top 10\" genres, or at least one of the \"top\" genres.**\n",
    ">\n",
    ">**5-Increasing in vote_count has positive effectve Correlation**\n",
    ">\n",
    ">**6-Increasing in vote_average has positive effect on popularity (Positive Correlation)**\n",
    ">\n",
    ">**7-Increasing in budget has small positive effect on popularity.**\n",
    "\n"
   ]
  },
  {
   "cell_type": "code",
   "execution_count": null,
   "metadata": {},
   "outputs": [],
   "source": []
  }
 ],
 "metadata": {
  "kernelspec": {
   "display_name": "Python 3",
   "language": "python",
   "name": "python3"
  },
  "language_info": {
   "codemirror_mode": {
    "name": "ipython",
    "version": 3
   },
   "file_extension": ".py",
   "mimetype": "text/x-python",
   "name": "python",
   "nbconvert_exporter": "python",
   "pygments_lexer": "ipython3",
   "version": "3.8.3"
  }
 },
 "nbformat": 4,
 "nbformat_minor": 2
}
